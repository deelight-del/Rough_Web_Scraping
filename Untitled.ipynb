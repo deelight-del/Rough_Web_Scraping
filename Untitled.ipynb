{
 "cells": [
  {
   "cell_type": "markdown",
   "id": "e6491867",
   "metadata": {},
   "source": [
    "Using request and response is returning error 403, a forbidden request error."
   ]
  },
  {
   "cell_type": "code",
   "execution_count": null,
   "id": "727608cf",
   "metadata": {},
   "outputs": [],
   "source": []
  },
  {
   "cell_type": "code",
   "execution_count": 1,
   "id": "4df53e38",
   "metadata": {},
   "outputs": [],
   "source": [
    "import requests\n",
    "from bs4 import BeautifulSoup\n",
    "import pandas\n",
    "import random"
   ]
  },
  {
   "cell_type": "code",
   "execution_count": 126,
   "id": "a8a3af32",
   "metadata": {},
   "outputs": [],
   "source": [
    "url_ = \"https://www.wine-searcher.com/vintage-1909\""
   ]
  },
  {
   "cell_type": "code",
   "execution_count": 127,
   "id": "e50d72eb",
   "metadata": {},
   "outputs": [],
   "source": [
    "headers = {\n",
    "    \"user-agent\": \"FeedFetcher-Google; (+http://www.google.com/feedfetcher.html)\"\n",
    "}"
   ]
  },
  {
   "cell_type": "code",
   "execution_count": 130,
   "id": "462b807d",
   "metadata": {},
   "outputs": [],
   "source": [
    "response = requests.get(url_)"
   ]
  },
  {
   "cell_type": "code",
   "execution_count": 131,
   "id": "ac899e0a",
   "metadata": {},
   "outputs": [
    {
     "data": {
      "text/plain": [
       "<Response [403]>"
      ]
     },
     "execution_count": 131,
     "metadata": {},
     "output_type": "execute_result"
    }
   ],
   "source": [
    "response"
   ]
  },
  {
   "cell_type": "code",
   "execution_count": 105,
   "id": "81cc0aee",
   "metadata": {},
   "outputs": [],
   "source": [
    "soup = BeautifulSoup(response.content, \"html.parser\")"
   ]
  },
  {
   "cell_type": "code",
   "execution_count": 106,
   "id": "0eabc5d1",
   "metadata": {},
   "outputs": [
    {
     "data": {
      "text/plain": [
       "<!DOCTYPE html>\n",
       "\n",
       "<html lang=\"en\">\n",
       "<head>\n",
       "<meta charset=\"utf-8\"/>\n",
       "<meta content=\"width=device-width, initial-scale=1\" name=\"viewport\"/>\n",
       "<meta content=\"px-captcha\" name=\"description\"/>\n",
       "<title>Access to this page has been denied</title>\n",
       "</head>\n",
       "<body>\n",
       "<script>\n",
       "        window._pxVid = '';\n",
       "        window._pxUuid = 'a04638e5-04db-11ed-a22d-6e6168766850';\n",
       "        window._pxAppId = 'PXK6S8okp3';\n",
       "        window._pxHostUrl = 'https://collector-PXK6S8okp3.perimeterx.net';\n",
       "        window._pxCustomLogo = 'https://www.wine-searcher.com/images/main-logo-PX.png';\n",
       "        window._pxJsClientSrc = '//client.perimeterx.net/PXK6S8okp3/main.min.js';\n",
       "        window._pxFirstPartyEnabled = 'true';\n",
       "        var script = document.createElement('script');\n",
       "        script.src = '//captcha.perimeterx.net/PXK6S8okp3/captcha.js?a=c&u=a04638e5-04db-11ed-a22d-6e6168766850&v=&m=0';\n",
       "        document.head.appendChild(script);\n",
       "        script.onerror = function () {\n",
       "            script = document.createElement('script');\n",
       "            script.src = 'https://captcha.px-cloud.net/PXK6S8okp3/captcha.js?a=c&u=a04638e5-04db-11ed-a22d-6e6168766850&v=&m=0';\n",
       "            script.onerror = window._pxDisplayErrorMessage;\n",
       "            document.head.appendChild(script);\n",
       "        };\n",
       "        window._pxDisplayErrorMessage = function () {\n",
       "            var style = document.createElement('style');\n",
       "            style.innerText = '@import url(https://fonts.googleapis.com/css2?family=Roboto:ital,wght@0,100;0,300;0,400;0,500;0,700;0,900;1,100;1,300;1,400;1,500;1,700;1,900&display=swap);body{background-color:#fafbfc}@media (max-width:480px){body{background-color:#fff}}.px-captcha-error-container{position:fixed;height:328px;background-color:#fff;font-family:Roboto,sans-serif}.px-captcha-error-header{color:#f0f1f2;font-size:29px;margin:67px 0 33px;font-weight:500;line-height:.83;text-align:center}.px-captcha-error-message{color:#f0f1f2;font-size:18px;margin:0 0 29px;line-height:1.33;text-align:center}div.px-captcha-error-button{text-align:center;line-height:50px;width:253px;margin:auto;border-radius:25px;border:solid 1px #f0f1f2;font-size:20px;color:#f0f1f2}div.px-captcha-error-wrapper{margin:23px 0 0}div.px-captcha-error{margin:auto;text-align:center;width:400px;height:30px;font-size:12px;background-color:#fcf0f2;color:#ce0e2d}img.px-captcha-error{margin:6px 10px -2px 0}@media (min-width:620px){.px-captcha-error-container{width:528px;top:50%;left:50%;margin-top:-164px;margin-left:-264px;border-radius:3px;box-shadow:0 2px 9px -1px rgba(0,0,0,.13)}}@media (min-width:481px) and (max-width:620px){.px-captcha-error-container{width:85%;top:50%;left:50%;margin-top:-164px;margin-left:-42.5%;border-radius:3px;box-shadow:0 2px 9px -1px rgba(0,0,0,.13)}}@media (max-width:480px){.px-captcha-error-container{width:528px;top:50%;left:50%;margin-top:-164px;margin-left:-264px}}';\n",
       "            document.head.appendChild(style);\n",
       "            var div = document.createElement('div');\n",
       "            div.className = 'px-captcha-error-container';\n",
       "            div.innerHTML = '<div class=\"px-captcha-error-header\">Before we continue...</div><div class=\"px-captcha-error-message\">Press & Hold to confirm you are<br>a human (and not a bot).</div><div class=\"px-captcha-error-button\">Press & Hold</div><div class=\"px-captcha-error-wrapper\"><div class=\"px-captcha-error\"><img class=\"px-captcha-error\" src=\"data:image/png;base64,iVBORw0KGgoAAAANSUhEUgAAABMAAAAQCAMAAADDGrRQAAAABGdBTUEAALGPC/xhBQAAAAFzUkdCAK7OHOkAAABFUExURUdwTNYELOEGONQILd0AONwALtwEL+AAL9MFLfkJSNQGLdMJLdQJLdQGLdQKLtYFLNcELdUGLdcBL9gFL88OLdUFLNEOLglBhT4AAAAXdFJOUwC8CqgNIRgRoAS1dWWuR4RTjzgryZpYblfkcAAAAI9JREFUGNNdj+sWhCAIhAdvqGVa1r7/oy6RZ7eaH3D4ZACBIed9wlOOMtUnSrEmZ6cHa9YAIfsbCkWrdpi/c50Bk2CO9mNLdMAu03wJA3HpEnfpxbyOg6ruyx8JJi6KNstnslp1dbPd9GnqmuYq7mmcv1zjnbQw8cV0xzkqo+fX1zkjUOO7wnrInUTxJiruC3vtBNRoQQn2AAAAAElFTkSuQmCC\">Please check your network connection or disable your ad-blocker.</div></div>';\n",
       "            document.body.appendChild(div);\n",
       "        };\n",
       "    </script>\n",
       "<script src=\"\"></script>\n",
       "</body>\n",
       "</html>"
      ]
     },
     "execution_count": 106,
     "metadata": {},
     "output_type": "execute_result"
    }
   ],
   "source": [
    "soup"
   ]
  },
  {
   "cell_type": "code",
   "execution_count": 100,
   "id": "cbc37185",
   "metadata": {},
   "outputs": [],
   "source": [
    "tables = soup.find_all('table', 'table')"
   ]
  },
  {
   "cell_type": "code",
   "execution_count": 101,
   "id": "2ae92b9f",
   "metadata": {},
   "outputs": [
    {
     "data": {
      "text/plain": [
       "0"
      ]
     },
     "execution_count": 101,
     "metadata": {},
     "output_type": "execute_result"
    }
   ],
   "source": [
    "len(tables)"
   ]
  },
  {
   "cell_type": "code",
   "execution_count": null,
   "id": "9cce8e58",
   "metadata": {},
   "outputs": [],
   "source": [
    "pre_table = pd.read_html(str(tables[0]))"
   ]
  },
  {
   "cell_type": "code",
   "execution_count": null,
   "id": "b03f4f95",
   "metadata": {},
   "outputs": [],
   "source": [
    "df = pre_table[0]\n",
    "df.head(2)"
   ]
  },
  {
   "cell_type": "code",
   "execution_count": null,
   "id": "68e7fa1f",
   "metadata": {},
   "outputs": [],
   "source": [
    "df[\"Region Popularity Critics' Score Avg. Price / 750ml\"][1]"
   ]
  },
  {
   "cell_type": "code",
   "execution_count": null,
   "id": "10d16e9d",
   "metadata": {},
   "outputs": [],
   "source": [
    "df[\"Region Popularity Critics' Score Avg. Price / 750ml\"][0]"
   ]
  },
  {
   "cell_type": "code",
   "execution_count": 8,
   "id": "df262754",
   "metadata": {},
   "outputs": [],
   "source": [
    "#Create list from txt file\n",
    "list_links = []\n",
    "\n",
    "with open(\"A_wine_s.txt\", \"r\") as f:\n",
    "    for i in range(50):\n",
    "        link = f.readline().strip(\"\\n\")\n",
    "        list_links.append(link)"
   ]
  },
  {
   "cell_type": "code",
   "execution_count": null,
   "id": "0d8eb952",
   "metadata": {},
   "outputs": [],
   "source": [
    "pre_table = pd.read_html(str(table[0]))\n",
    "df = pre_table[0]\n",
    "df_list.append(df)"
   ]
  },
  {
   "cell_type": "code",
   "execution_count": 49,
   "id": "15d7c019",
   "metadata": {},
   "outputs": [
    {
     "name": "stdout",
     "output_type": "stream",
     "text": [
      "1 over 50\n"
     ]
    },
    {
     "ename": "ConnectionError",
     "evalue": "HTTPSConnectionPool(host='www.wine-searcher.com', port=443): Max retries exceeded with url: /grape-2204-agave-spirit (Caused by NewConnectionError('<urllib3.connection.HTTPSConnection object at 0x000001F20B226EC0>: Failed to establish a new connection: [Errno 11001] getaddrinfo failed'))",
     "output_type": "error",
     "traceback": [
      "\u001b[1;31m---------------------------------------------------------------------------\u001b[0m",
      "\u001b[1;31mgaierror\u001b[0m                                  Traceback (most recent call last)",
      "File \u001b[1;32m~\\anaconda3\\envs\\webscrape\\lib\\site-packages\\urllib3\\connection.py:174\u001b[0m, in \u001b[0;36mHTTPConnection._new_conn\u001b[1;34m(self)\u001b[0m\n\u001b[0;32m    173\u001b[0m \u001b[38;5;28;01mtry\u001b[39;00m:\n\u001b[1;32m--> 174\u001b[0m     conn \u001b[38;5;241m=\u001b[39m connection\u001b[38;5;241m.\u001b[39mcreate_connection(\n\u001b[0;32m    175\u001b[0m         (\u001b[38;5;28mself\u001b[39m\u001b[38;5;241m.\u001b[39m_dns_host, \u001b[38;5;28mself\u001b[39m\u001b[38;5;241m.\u001b[39mport), \u001b[38;5;28mself\u001b[39m\u001b[38;5;241m.\u001b[39mtimeout, \u001b[38;5;241m*\u001b[39m\u001b[38;5;241m*\u001b[39mextra_kw\n\u001b[0;32m    176\u001b[0m     )\n\u001b[0;32m    178\u001b[0m \u001b[38;5;28;01mexcept\u001b[39;00m SocketTimeout:\n",
      "File \u001b[1;32m~\\anaconda3\\envs\\webscrape\\lib\\site-packages\\urllib3\\util\\connection.py:72\u001b[0m, in \u001b[0;36mcreate_connection\u001b[1;34m(address, timeout, source_address, socket_options)\u001b[0m\n\u001b[0;32m     68\u001b[0m     \u001b[38;5;28;01mreturn\u001b[39;00m six\u001b[38;5;241m.\u001b[39mraise_from(\n\u001b[0;32m     69\u001b[0m         LocationParseError(\u001b[38;5;124mu\u001b[39m\u001b[38;5;124m\"\u001b[39m\u001b[38;5;124m'\u001b[39m\u001b[38;5;132;01m%s\u001b[39;00m\u001b[38;5;124m'\u001b[39m\u001b[38;5;124m, label empty or too long\u001b[39m\u001b[38;5;124m\"\u001b[39m \u001b[38;5;241m%\u001b[39m host), \u001b[38;5;28;01mNone\u001b[39;00m\n\u001b[0;32m     70\u001b[0m     )\n\u001b[1;32m---> 72\u001b[0m \u001b[38;5;28;01mfor\u001b[39;00m res \u001b[38;5;129;01min\u001b[39;00m \u001b[43msocket\u001b[49m\u001b[38;5;241;43m.\u001b[39;49m\u001b[43mgetaddrinfo\u001b[49m\u001b[43m(\u001b[49m\u001b[43mhost\u001b[49m\u001b[43m,\u001b[49m\u001b[43m \u001b[49m\u001b[43mport\u001b[49m\u001b[43m,\u001b[49m\u001b[43m \u001b[49m\u001b[43mfamily\u001b[49m\u001b[43m,\u001b[49m\u001b[43m \u001b[49m\u001b[43msocket\u001b[49m\u001b[38;5;241;43m.\u001b[39;49m\u001b[43mSOCK_STREAM\u001b[49m\u001b[43m)\u001b[49m:\n\u001b[0;32m     73\u001b[0m     af, socktype, proto, canonname, sa \u001b[38;5;241m=\u001b[39m res\n",
      "File \u001b[1;32m~\\anaconda3\\envs\\webscrape\\lib\\socket.py:955\u001b[0m, in \u001b[0;36mgetaddrinfo\u001b[1;34m(host, port, family, type, proto, flags)\u001b[0m\n\u001b[0;32m    954\u001b[0m addrlist \u001b[38;5;241m=\u001b[39m []\n\u001b[1;32m--> 955\u001b[0m \u001b[38;5;28;01mfor\u001b[39;00m res \u001b[38;5;129;01min\u001b[39;00m \u001b[43m_socket\u001b[49m\u001b[38;5;241;43m.\u001b[39;49m\u001b[43mgetaddrinfo\u001b[49m\u001b[43m(\u001b[49m\u001b[43mhost\u001b[49m\u001b[43m,\u001b[49m\u001b[43m \u001b[49m\u001b[43mport\u001b[49m\u001b[43m,\u001b[49m\u001b[43m \u001b[49m\u001b[43mfamily\u001b[49m\u001b[43m,\u001b[49m\u001b[43m \u001b[49m\u001b[38;5;28;43mtype\u001b[39;49m\u001b[43m,\u001b[49m\u001b[43m \u001b[49m\u001b[43mproto\u001b[49m\u001b[43m,\u001b[49m\u001b[43m \u001b[49m\u001b[43mflags\u001b[49m\u001b[43m)\u001b[49m:\n\u001b[0;32m    956\u001b[0m     af, socktype, proto, canonname, sa \u001b[38;5;241m=\u001b[39m res\n",
      "\u001b[1;31mgaierror\u001b[0m: [Errno 11001] getaddrinfo failed",
      "\nDuring handling of the above exception, another exception occurred:\n",
      "\u001b[1;31mNewConnectionError\u001b[0m                        Traceback (most recent call last)",
      "File \u001b[1;32m~\\anaconda3\\envs\\webscrape\\lib\\site-packages\\urllib3\\connectionpool.py:703\u001b[0m, in \u001b[0;36mHTTPConnectionPool.urlopen\u001b[1;34m(self, method, url, body, headers, retries, redirect, assert_same_host, timeout, pool_timeout, release_conn, chunked, body_pos, **response_kw)\u001b[0m\n\u001b[0;32m    702\u001b[0m \u001b[38;5;66;03m# Make the request on the httplib connection object.\u001b[39;00m\n\u001b[1;32m--> 703\u001b[0m httplib_response \u001b[38;5;241m=\u001b[39m \u001b[38;5;28;43mself\u001b[39;49m\u001b[38;5;241;43m.\u001b[39;49m\u001b[43m_make_request\u001b[49m\u001b[43m(\u001b[49m\n\u001b[0;32m    704\u001b[0m \u001b[43m    \u001b[49m\u001b[43mconn\u001b[49m\u001b[43m,\u001b[49m\n\u001b[0;32m    705\u001b[0m \u001b[43m    \u001b[49m\u001b[43mmethod\u001b[49m\u001b[43m,\u001b[49m\n\u001b[0;32m    706\u001b[0m \u001b[43m    \u001b[49m\u001b[43murl\u001b[49m\u001b[43m,\u001b[49m\n\u001b[0;32m    707\u001b[0m \u001b[43m    \u001b[49m\u001b[43mtimeout\u001b[49m\u001b[38;5;241;43m=\u001b[39;49m\u001b[43mtimeout_obj\u001b[49m\u001b[43m,\u001b[49m\n\u001b[0;32m    708\u001b[0m \u001b[43m    \u001b[49m\u001b[43mbody\u001b[49m\u001b[38;5;241;43m=\u001b[39;49m\u001b[43mbody\u001b[49m\u001b[43m,\u001b[49m\n\u001b[0;32m    709\u001b[0m \u001b[43m    \u001b[49m\u001b[43mheaders\u001b[49m\u001b[38;5;241;43m=\u001b[39;49m\u001b[43mheaders\u001b[49m\u001b[43m,\u001b[49m\n\u001b[0;32m    710\u001b[0m \u001b[43m    \u001b[49m\u001b[43mchunked\u001b[49m\u001b[38;5;241;43m=\u001b[39;49m\u001b[43mchunked\u001b[49m\u001b[43m,\u001b[49m\n\u001b[0;32m    711\u001b[0m \u001b[43m\u001b[49m\u001b[43m)\u001b[49m\n\u001b[0;32m    713\u001b[0m \u001b[38;5;66;03m# If we're going to release the connection in ``finally:``, then\u001b[39;00m\n\u001b[0;32m    714\u001b[0m \u001b[38;5;66;03m# the response doesn't need to know about the connection. Otherwise\u001b[39;00m\n\u001b[0;32m    715\u001b[0m \u001b[38;5;66;03m# it will also try to release it and we'll have a double-release\u001b[39;00m\n\u001b[0;32m    716\u001b[0m \u001b[38;5;66;03m# mess.\u001b[39;00m\n",
      "File \u001b[1;32m~\\anaconda3\\envs\\webscrape\\lib\\site-packages\\urllib3\\connectionpool.py:386\u001b[0m, in \u001b[0;36mHTTPConnectionPool._make_request\u001b[1;34m(self, conn, method, url, timeout, chunked, **httplib_request_kw)\u001b[0m\n\u001b[0;32m    385\u001b[0m \u001b[38;5;28;01mtry\u001b[39;00m:\n\u001b[1;32m--> 386\u001b[0m     \u001b[38;5;28;43mself\u001b[39;49m\u001b[38;5;241;43m.\u001b[39;49m\u001b[43m_validate_conn\u001b[49m\u001b[43m(\u001b[49m\u001b[43mconn\u001b[49m\u001b[43m)\u001b[49m\n\u001b[0;32m    387\u001b[0m \u001b[38;5;28;01mexcept\u001b[39;00m (SocketTimeout, BaseSSLError) \u001b[38;5;28;01mas\u001b[39;00m e:\n\u001b[0;32m    388\u001b[0m     \u001b[38;5;66;03m# Py2 raises this as a BaseSSLError, Py3 raises it as socket timeout.\u001b[39;00m\n",
      "File \u001b[1;32m~\\anaconda3\\envs\\webscrape\\lib\\site-packages\\urllib3\\connectionpool.py:1042\u001b[0m, in \u001b[0;36mHTTPSConnectionPool._validate_conn\u001b[1;34m(self, conn)\u001b[0m\n\u001b[0;32m   1041\u001b[0m \u001b[38;5;28;01mif\u001b[39;00m \u001b[38;5;129;01mnot\u001b[39;00m \u001b[38;5;28mgetattr\u001b[39m(conn, \u001b[38;5;124m\"\u001b[39m\u001b[38;5;124msock\u001b[39m\u001b[38;5;124m\"\u001b[39m, \u001b[38;5;28;01mNone\u001b[39;00m):  \u001b[38;5;66;03m# AppEngine might not have  `.sock`\u001b[39;00m\n\u001b[1;32m-> 1042\u001b[0m     \u001b[43mconn\u001b[49m\u001b[38;5;241;43m.\u001b[39;49m\u001b[43mconnect\u001b[49m\u001b[43m(\u001b[49m\u001b[43m)\u001b[49m\n\u001b[0;32m   1044\u001b[0m \u001b[38;5;28;01mif\u001b[39;00m \u001b[38;5;129;01mnot\u001b[39;00m conn\u001b[38;5;241m.\u001b[39mis_verified:\n",
      "File \u001b[1;32m~\\anaconda3\\envs\\webscrape\\lib\\site-packages\\urllib3\\connection.py:358\u001b[0m, in \u001b[0;36mHTTPSConnection.connect\u001b[1;34m(self)\u001b[0m\n\u001b[0;32m    356\u001b[0m \u001b[38;5;28;01mdef\u001b[39;00m \u001b[38;5;21mconnect\u001b[39m(\u001b[38;5;28mself\u001b[39m):\n\u001b[0;32m    357\u001b[0m     \u001b[38;5;66;03m# Add certificate verification\u001b[39;00m\n\u001b[1;32m--> 358\u001b[0m     \u001b[38;5;28mself\u001b[39m\u001b[38;5;241m.\u001b[39msock \u001b[38;5;241m=\u001b[39m conn \u001b[38;5;241m=\u001b[39m \u001b[38;5;28;43mself\u001b[39;49m\u001b[38;5;241;43m.\u001b[39;49m\u001b[43m_new_conn\u001b[49m\u001b[43m(\u001b[49m\u001b[43m)\u001b[49m\n\u001b[0;32m    359\u001b[0m     hostname \u001b[38;5;241m=\u001b[39m \u001b[38;5;28mself\u001b[39m\u001b[38;5;241m.\u001b[39mhost\n",
      "File \u001b[1;32m~\\anaconda3\\envs\\webscrape\\lib\\site-packages\\urllib3\\connection.py:186\u001b[0m, in \u001b[0;36mHTTPConnection._new_conn\u001b[1;34m(self)\u001b[0m\n\u001b[0;32m    185\u001b[0m \u001b[38;5;28;01mexcept\u001b[39;00m SocketError \u001b[38;5;28;01mas\u001b[39;00m e:\n\u001b[1;32m--> 186\u001b[0m     \u001b[38;5;28;01mraise\u001b[39;00m NewConnectionError(\n\u001b[0;32m    187\u001b[0m         \u001b[38;5;28mself\u001b[39m, \u001b[38;5;124m\"\u001b[39m\u001b[38;5;124mFailed to establish a new connection: \u001b[39m\u001b[38;5;132;01m%s\u001b[39;00m\u001b[38;5;124m\"\u001b[39m \u001b[38;5;241m%\u001b[39m e\n\u001b[0;32m    188\u001b[0m     )\n\u001b[0;32m    190\u001b[0m \u001b[38;5;28;01mreturn\u001b[39;00m conn\n",
      "\u001b[1;31mNewConnectionError\u001b[0m: <urllib3.connection.HTTPSConnection object at 0x000001F20B225630>: Failed to establish a new connection: [Errno 11001] getaddrinfo failed",
      "\nDuring handling of the above exception, another exception occurred:\n",
      "\u001b[1;31mMaxRetryError\u001b[0m                             Traceback (most recent call last)",
      "File \u001b[1;32m~\\anaconda3\\envs\\webscrape\\lib\\site-packages\\requests\\adapters.py:489\u001b[0m, in \u001b[0;36mHTTPAdapter.send\u001b[1;34m(self, request, stream, timeout, verify, cert, proxies)\u001b[0m\n\u001b[0;32m    488\u001b[0m \u001b[38;5;28;01mif\u001b[39;00m \u001b[38;5;129;01mnot\u001b[39;00m chunked:\n\u001b[1;32m--> 489\u001b[0m     resp \u001b[38;5;241m=\u001b[39m \u001b[43mconn\u001b[49m\u001b[38;5;241;43m.\u001b[39;49m\u001b[43murlopen\u001b[49m\u001b[43m(\u001b[49m\n\u001b[0;32m    490\u001b[0m \u001b[43m        \u001b[49m\u001b[43mmethod\u001b[49m\u001b[38;5;241;43m=\u001b[39;49m\u001b[43mrequest\u001b[49m\u001b[38;5;241;43m.\u001b[39;49m\u001b[43mmethod\u001b[49m\u001b[43m,\u001b[49m\n\u001b[0;32m    491\u001b[0m \u001b[43m        \u001b[49m\u001b[43murl\u001b[49m\u001b[38;5;241;43m=\u001b[39;49m\u001b[43murl\u001b[49m\u001b[43m,\u001b[49m\n\u001b[0;32m    492\u001b[0m \u001b[43m        \u001b[49m\u001b[43mbody\u001b[49m\u001b[38;5;241;43m=\u001b[39;49m\u001b[43mrequest\u001b[49m\u001b[38;5;241;43m.\u001b[39;49m\u001b[43mbody\u001b[49m\u001b[43m,\u001b[49m\n\u001b[0;32m    493\u001b[0m \u001b[43m        \u001b[49m\u001b[43mheaders\u001b[49m\u001b[38;5;241;43m=\u001b[39;49m\u001b[43mrequest\u001b[49m\u001b[38;5;241;43m.\u001b[39;49m\u001b[43mheaders\u001b[49m\u001b[43m,\u001b[49m\n\u001b[0;32m    494\u001b[0m \u001b[43m        \u001b[49m\u001b[43mredirect\u001b[49m\u001b[38;5;241;43m=\u001b[39;49m\u001b[38;5;28;43;01mFalse\u001b[39;49;00m\u001b[43m,\u001b[49m\n\u001b[0;32m    495\u001b[0m \u001b[43m        \u001b[49m\u001b[43massert_same_host\u001b[49m\u001b[38;5;241;43m=\u001b[39;49m\u001b[38;5;28;43;01mFalse\u001b[39;49;00m\u001b[43m,\u001b[49m\n\u001b[0;32m    496\u001b[0m \u001b[43m        \u001b[49m\u001b[43mpreload_content\u001b[49m\u001b[38;5;241;43m=\u001b[39;49m\u001b[38;5;28;43;01mFalse\u001b[39;49;00m\u001b[43m,\u001b[49m\n\u001b[0;32m    497\u001b[0m \u001b[43m        \u001b[49m\u001b[43mdecode_content\u001b[49m\u001b[38;5;241;43m=\u001b[39;49m\u001b[38;5;28;43;01mFalse\u001b[39;49;00m\u001b[43m,\u001b[49m\n\u001b[0;32m    498\u001b[0m \u001b[43m        \u001b[49m\u001b[43mretries\u001b[49m\u001b[38;5;241;43m=\u001b[39;49m\u001b[38;5;28;43mself\u001b[39;49m\u001b[38;5;241;43m.\u001b[39;49m\u001b[43mmax_retries\u001b[49m\u001b[43m,\u001b[49m\n\u001b[0;32m    499\u001b[0m \u001b[43m        \u001b[49m\u001b[43mtimeout\u001b[49m\u001b[38;5;241;43m=\u001b[39;49m\u001b[43mtimeout\u001b[49m\u001b[43m,\u001b[49m\n\u001b[0;32m    500\u001b[0m \u001b[43m    \u001b[49m\u001b[43m)\u001b[49m\n\u001b[0;32m    502\u001b[0m \u001b[38;5;66;03m# Send the request.\u001b[39;00m\n\u001b[0;32m    503\u001b[0m \u001b[38;5;28;01melse\u001b[39;00m:\n",
      "File \u001b[1;32m~\\anaconda3\\envs\\webscrape\\lib\\site-packages\\urllib3\\connectionpool.py:787\u001b[0m, in \u001b[0;36mHTTPConnectionPool.urlopen\u001b[1;34m(self, method, url, body, headers, retries, redirect, assert_same_host, timeout, pool_timeout, release_conn, chunked, body_pos, **response_kw)\u001b[0m\n\u001b[0;32m    785\u001b[0m     e \u001b[38;5;241m=\u001b[39m ProtocolError(\u001b[38;5;124m\"\u001b[39m\u001b[38;5;124mConnection aborted.\u001b[39m\u001b[38;5;124m\"\u001b[39m, e)\n\u001b[1;32m--> 787\u001b[0m retries \u001b[38;5;241m=\u001b[39m \u001b[43mretries\u001b[49m\u001b[38;5;241;43m.\u001b[39;49m\u001b[43mincrement\u001b[49m\u001b[43m(\u001b[49m\n\u001b[0;32m    788\u001b[0m \u001b[43m    \u001b[49m\u001b[43mmethod\u001b[49m\u001b[43m,\u001b[49m\u001b[43m \u001b[49m\u001b[43murl\u001b[49m\u001b[43m,\u001b[49m\u001b[43m \u001b[49m\u001b[43merror\u001b[49m\u001b[38;5;241;43m=\u001b[39;49m\u001b[43me\u001b[49m\u001b[43m,\u001b[49m\u001b[43m \u001b[49m\u001b[43m_pool\u001b[49m\u001b[38;5;241;43m=\u001b[39;49m\u001b[38;5;28;43mself\u001b[39;49m\u001b[43m,\u001b[49m\u001b[43m \u001b[49m\u001b[43m_stacktrace\u001b[49m\u001b[38;5;241;43m=\u001b[39;49m\u001b[43msys\u001b[49m\u001b[38;5;241;43m.\u001b[39;49m\u001b[43mexc_info\u001b[49m\u001b[43m(\u001b[49m\u001b[43m)\u001b[49m\u001b[43m[\u001b[49m\u001b[38;5;241;43m2\u001b[39;49m\u001b[43m]\u001b[49m\n\u001b[0;32m    789\u001b[0m \u001b[43m\u001b[49m\u001b[43m)\u001b[49m\n\u001b[0;32m    790\u001b[0m retries\u001b[38;5;241m.\u001b[39msleep()\n",
      "File \u001b[1;32m~\\anaconda3\\envs\\webscrape\\lib\\site-packages\\urllib3\\util\\retry.py:592\u001b[0m, in \u001b[0;36mRetry.increment\u001b[1;34m(self, method, url, response, error, _pool, _stacktrace)\u001b[0m\n\u001b[0;32m    591\u001b[0m \u001b[38;5;28;01mif\u001b[39;00m new_retry\u001b[38;5;241m.\u001b[39mis_exhausted():\n\u001b[1;32m--> 592\u001b[0m     \u001b[38;5;28;01mraise\u001b[39;00m MaxRetryError(_pool, url, error \u001b[38;5;129;01mor\u001b[39;00m ResponseError(cause))\n\u001b[0;32m    594\u001b[0m log\u001b[38;5;241m.\u001b[39mdebug(\u001b[38;5;124m\"\u001b[39m\u001b[38;5;124mIncremented Retry for (url=\u001b[39m\u001b[38;5;124m'\u001b[39m\u001b[38;5;132;01m%s\u001b[39;00m\u001b[38;5;124m'\u001b[39m\u001b[38;5;124m): \u001b[39m\u001b[38;5;132;01m%r\u001b[39;00m\u001b[38;5;124m\"\u001b[39m, url, new_retry)\n",
      "\u001b[1;31mMaxRetryError\u001b[0m: HTTPSConnectionPool(host='www.wine-searcher.com', port=443): Max retries exceeded with url: /grape-2204-agave-spirit (Caused by NewConnectionError('<urllib3.connection.HTTPSConnection object at 0x000001F20B225630>: Failed to establish a new connection: [Errno 11001] getaddrinfo failed'))",
      "\nDuring handling of the above exception, another exception occurred:\n",
      "\u001b[1;31mConnectionError\u001b[0m                           Traceback (most recent call last)",
      "Input \u001b[1;32mIn [49]\u001b[0m, in \u001b[0;36m<cell line: 12>\u001b[1;34m()\u001b[0m\n\u001b[0;32m     15\u001b[0m \u001b[38;5;28;01mtry\u001b[39;00m:\n\u001b[1;32m---> 16\u001b[0m     response \u001b[38;5;241m=\u001b[39m \u001b[43mrequests\u001b[49m\u001b[38;5;241;43m.\u001b[39;49m\u001b[43mget\u001b[49m\u001b[43m(\u001b[49m\u001b[43murl\u001b[49m\u001b[43m,\u001b[49m\u001b[43m \u001b[49m\u001b[43mheaders\u001b[49m\u001b[43m \u001b[49m\u001b[38;5;241;43m=\u001b[39;49m\u001b[43m \u001b[49m\u001b[43m{\u001b[49m\n\u001b[0;32m     17\u001b[0m \u001b[43m\u001b[49m\u001b[38;5;124;43m\"\u001b[39;49m\u001b[38;5;124;43mUser-Agent\u001b[39;49m\u001b[38;5;124;43m\"\u001b[39;49m\u001b[43m:\u001b[49m\u001b[43m \u001b[49m\u001b[43muser_agent_list\u001b[49m\u001b[43m[\u001b[49m\u001b[43mrandom\u001b[49m\u001b[38;5;241;43m.\u001b[39;49m\u001b[43mrandint\u001b[49m\u001b[43m(\u001b[49m\u001b[38;5;241;43m0\u001b[39;49m\u001b[43m,\u001b[49m\u001b[43m \u001b[49m\u001b[38;5;28;43mlen\u001b[39;49m\u001b[43m(\u001b[49m\u001b[43muser_agent_list\u001b[49m\u001b[43m)\u001b[49m\u001b[38;5;241;43m-\u001b[39;49m\u001b[38;5;241;43m1\u001b[39;49m\u001b[43m)\u001b[49m\u001b[43m]\u001b[49m\n\u001b[0;32m     18\u001b[0m \u001b[43m    \u001b[49m\u001b[43m}\u001b[49m\u001b[43m)\u001b[49m\n\u001b[0;32m     19\u001b[0m     soup \u001b[38;5;241m=\u001b[39m BeautifulSoup(response\u001b[38;5;241m.\u001b[39mcontent, \u001b[38;5;124m\"\u001b[39m\u001b[38;5;124mhtml.parser\u001b[39m\u001b[38;5;124m\"\u001b[39m)\n",
      "File \u001b[1;32m~\\anaconda3\\envs\\webscrape\\lib\\site-packages\\requests\\api.py:73\u001b[0m, in \u001b[0;36mget\u001b[1;34m(url, params, **kwargs)\u001b[0m\n\u001b[0;32m     63\u001b[0m \u001b[38;5;124mr\u001b[39m\u001b[38;5;124;03m\"\"\"Sends a GET request.\u001b[39;00m\n\u001b[0;32m     64\u001b[0m \n\u001b[0;32m     65\u001b[0m \u001b[38;5;124;03m:param url: URL for the new :class:`Request` object.\u001b[39;00m\n\u001b[1;32m   (...)\u001b[0m\n\u001b[0;32m     70\u001b[0m \u001b[38;5;124;03m:rtype: requests.Response\u001b[39;00m\n\u001b[0;32m     71\u001b[0m \u001b[38;5;124;03m\"\"\"\u001b[39;00m\n\u001b[1;32m---> 73\u001b[0m \u001b[38;5;28;01mreturn\u001b[39;00m request(\u001b[38;5;124m\"\u001b[39m\u001b[38;5;124mget\u001b[39m\u001b[38;5;124m\"\u001b[39m, url, params\u001b[38;5;241m=\u001b[39mparams, \u001b[38;5;241m*\u001b[39m\u001b[38;5;241m*\u001b[39mkwargs)\n",
      "File \u001b[1;32m~\\anaconda3\\envs\\webscrape\\lib\\site-packages\\requests\\api.py:59\u001b[0m, in \u001b[0;36mrequest\u001b[1;34m(method, url, **kwargs)\u001b[0m\n\u001b[0;32m     58\u001b[0m \u001b[38;5;28;01mwith\u001b[39;00m sessions\u001b[38;5;241m.\u001b[39mSession() \u001b[38;5;28;01mas\u001b[39;00m session:\n\u001b[1;32m---> 59\u001b[0m     \u001b[38;5;28;01mreturn\u001b[39;00m session\u001b[38;5;241m.\u001b[39mrequest(method\u001b[38;5;241m=\u001b[39mmethod, url\u001b[38;5;241m=\u001b[39murl, \u001b[38;5;241m*\u001b[39m\u001b[38;5;241m*\u001b[39mkwargs)\n",
      "File \u001b[1;32m~\\anaconda3\\envs\\webscrape\\lib\\site-packages\\requests\\sessions.py:587\u001b[0m, in \u001b[0;36mSession.request\u001b[1;34m(self, method, url, params, data, headers, cookies, files, auth, timeout, allow_redirects, proxies, hooks, stream, verify, cert, json)\u001b[0m\n\u001b[0;32m    586\u001b[0m send_kwargs\u001b[38;5;241m.\u001b[39mupdate(settings)\n\u001b[1;32m--> 587\u001b[0m resp \u001b[38;5;241m=\u001b[39m \u001b[38;5;28mself\u001b[39m\u001b[38;5;241m.\u001b[39msend(prep, \u001b[38;5;241m*\u001b[39m\u001b[38;5;241m*\u001b[39msend_kwargs)\n\u001b[0;32m    589\u001b[0m \u001b[38;5;28;01mreturn\u001b[39;00m resp\n",
      "File \u001b[1;32m~\\anaconda3\\envs\\webscrape\\lib\\site-packages\\requests\\sessions.py:701\u001b[0m, in \u001b[0;36mSession.send\u001b[1;34m(self, request, **kwargs)\u001b[0m\n\u001b[0;32m    700\u001b[0m \u001b[38;5;66;03m# Send the request\u001b[39;00m\n\u001b[1;32m--> 701\u001b[0m r \u001b[38;5;241m=\u001b[39m adapter\u001b[38;5;241m.\u001b[39msend(request, \u001b[38;5;241m*\u001b[39m\u001b[38;5;241m*\u001b[39mkwargs)\n\u001b[0;32m    703\u001b[0m \u001b[38;5;66;03m# Total elapsed time of the request (approximately)\u001b[39;00m\n",
      "File \u001b[1;32m~\\anaconda3\\envs\\webscrape\\lib\\site-packages\\requests\\adapters.py:565\u001b[0m, in \u001b[0;36mHTTPAdapter.send\u001b[1;34m(self, request, stream, timeout, verify, cert, proxies)\u001b[0m\n\u001b[0;32m    563\u001b[0m         \u001b[38;5;28;01mraise\u001b[39;00m SSLError(e, request\u001b[38;5;241m=\u001b[39mrequest)\n\u001b[1;32m--> 565\u001b[0m     \u001b[38;5;28;01mraise\u001b[39;00m \u001b[38;5;167;01mConnectionError\u001b[39;00m(e, request\u001b[38;5;241m=\u001b[39mrequest)\n\u001b[0;32m    567\u001b[0m \u001b[38;5;28;01mexcept\u001b[39;00m ClosedPoolError \u001b[38;5;28;01mas\u001b[39;00m e:\n",
      "\u001b[1;31mConnectionError\u001b[0m: HTTPSConnectionPool(host='www.wine-searcher.com', port=443): Max retries exceeded with url: /grape-2204-agave-spirit (Caused by NewConnectionError('<urllib3.connection.HTTPSConnection object at 0x000001F20B225630>: Failed to establish a new connection: [Errno 11001] getaddrinfo failed'))",
      "\nDuring handling of the above exception, another exception occurred:\n",
      "\u001b[1;31mgaierror\u001b[0m                                  Traceback (most recent call last)",
      "File \u001b[1;32m~\\anaconda3\\envs\\webscrape\\lib\\site-packages\\urllib3\\connection.py:174\u001b[0m, in \u001b[0;36mHTTPConnection._new_conn\u001b[1;34m(self)\u001b[0m\n\u001b[0;32m    173\u001b[0m \u001b[38;5;28;01mtry\u001b[39;00m:\n\u001b[1;32m--> 174\u001b[0m     conn \u001b[38;5;241m=\u001b[39m connection\u001b[38;5;241m.\u001b[39mcreate_connection(\n\u001b[0;32m    175\u001b[0m         (\u001b[38;5;28mself\u001b[39m\u001b[38;5;241m.\u001b[39m_dns_host, \u001b[38;5;28mself\u001b[39m\u001b[38;5;241m.\u001b[39mport), \u001b[38;5;28mself\u001b[39m\u001b[38;5;241m.\u001b[39mtimeout, \u001b[38;5;241m*\u001b[39m\u001b[38;5;241m*\u001b[39mextra_kw\n\u001b[0;32m    176\u001b[0m     )\n\u001b[0;32m    178\u001b[0m \u001b[38;5;28;01mexcept\u001b[39;00m SocketTimeout:\n",
      "File \u001b[1;32m~\\anaconda3\\envs\\webscrape\\lib\\site-packages\\urllib3\\util\\connection.py:72\u001b[0m, in \u001b[0;36mcreate_connection\u001b[1;34m(address, timeout, source_address, socket_options)\u001b[0m\n\u001b[0;32m     68\u001b[0m     \u001b[38;5;28;01mreturn\u001b[39;00m six\u001b[38;5;241m.\u001b[39mraise_from(\n\u001b[0;32m     69\u001b[0m         LocationParseError(\u001b[38;5;124mu\u001b[39m\u001b[38;5;124m\"\u001b[39m\u001b[38;5;124m'\u001b[39m\u001b[38;5;132;01m%s\u001b[39;00m\u001b[38;5;124m'\u001b[39m\u001b[38;5;124m, label empty or too long\u001b[39m\u001b[38;5;124m\"\u001b[39m \u001b[38;5;241m%\u001b[39m host), \u001b[38;5;28;01mNone\u001b[39;00m\n\u001b[0;32m     70\u001b[0m     )\n\u001b[1;32m---> 72\u001b[0m \u001b[38;5;28;01mfor\u001b[39;00m res \u001b[38;5;129;01min\u001b[39;00m \u001b[43msocket\u001b[49m\u001b[38;5;241;43m.\u001b[39;49m\u001b[43mgetaddrinfo\u001b[49m\u001b[43m(\u001b[49m\u001b[43mhost\u001b[49m\u001b[43m,\u001b[49m\u001b[43m \u001b[49m\u001b[43mport\u001b[49m\u001b[43m,\u001b[49m\u001b[43m \u001b[49m\u001b[43mfamily\u001b[49m\u001b[43m,\u001b[49m\u001b[43m \u001b[49m\u001b[43msocket\u001b[49m\u001b[38;5;241;43m.\u001b[39;49m\u001b[43mSOCK_STREAM\u001b[49m\u001b[43m)\u001b[49m:\n\u001b[0;32m     73\u001b[0m     af, socktype, proto, canonname, sa \u001b[38;5;241m=\u001b[39m res\n",
      "File \u001b[1;32m~\\anaconda3\\envs\\webscrape\\lib\\socket.py:955\u001b[0m, in \u001b[0;36mgetaddrinfo\u001b[1;34m(host, port, family, type, proto, flags)\u001b[0m\n\u001b[0;32m    954\u001b[0m addrlist \u001b[38;5;241m=\u001b[39m []\n\u001b[1;32m--> 955\u001b[0m \u001b[38;5;28;01mfor\u001b[39;00m res \u001b[38;5;129;01min\u001b[39;00m \u001b[43m_socket\u001b[49m\u001b[38;5;241;43m.\u001b[39;49m\u001b[43mgetaddrinfo\u001b[49m\u001b[43m(\u001b[49m\u001b[43mhost\u001b[49m\u001b[43m,\u001b[49m\u001b[43m \u001b[49m\u001b[43mport\u001b[49m\u001b[43m,\u001b[49m\u001b[43m \u001b[49m\u001b[43mfamily\u001b[49m\u001b[43m,\u001b[49m\u001b[43m \u001b[49m\u001b[38;5;28;43mtype\u001b[39;49m\u001b[43m,\u001b[49m\u001b[43m \u001b[49m\u001b[43mproto\u001b[49m\u001b[43m,\u001b[49m\u001b[43m \u001b[49m\u001b[43mflags\u001b[49m\u001b[43m)\u001b[49m:\n\u001b[0;32m    956\u001b[0m     af, socktype, proto, canonname, sa \u001b[38;5;241m=\u001b[39m res\n",
      "\u001b[1;31mgaierror\u001b[0m: [Errno 11001] getaddrinfo failed",
      "\nDuring handling of the above exception, another exception occurred:\n",
      "\u001b[1;31mNewConnectionError\u001b[0m                        Traceback (most recent call last)",
      "File \u001b[1;32m~\\anaconda3\\envs\\webscrape\\lib\\site-packages\\urllib3\\connectionpool.py:703\u001b[0m, in \u001b[0;36mHTTPConnectionPool.urlopen\u001b[1;34m(self, method, url, body, headers, retries, redirect, assert_same_host, timeout, pool_timeout, release_conn, chunked, body_pos, **response_kw)\u001b[0m\n\u001b[0;32m    702\u001b[0m \u001b[38;5;66;03m# Make the request on the httplib connection object.\u001b[39;00m\n\u001b[1;32m--> 703\u001b[0m httplib_response \u001b[38;5;241m=\u001b[39m \u001b[38;5;28;43mself\u001b[39;49m\u001b[38;5;241;43m.\u001b[39;49m\u001b[43m_make_request\u001b[49m\u001b[43m(\u001b[49m\n\u001b[0;32m    704\u001b[0m \u001b[43m    \u001b[49m\u001b[43mconn\u001b[49m\u001b[43m,\u001b[49m\n\u001b[0;32m    705\u001b[0m \u001b[43m    \u001b[49m\u001b[43mmethod\u001b[49m\u001b[43m,\u001b[49m\n\u001b[0;32m    706\u001b[0m \u001b[43m    \u001b[49m\u001b[43murl\u001b[49m\u001b[43m,\u001b[49m\n\u001b[0;32m    707\u001b[0m \u001b[43m    \u001b[49m\u001b[43mtimeout\u001b[49m\u001b[38;5;241;43m=\u001b[39;49m\u001b[43mtimeout_obj\u001b[49m\u001b[43m,\u001b[49m\n\u001b[0;32m    708\u001b[0m \u001b[43m    \u001b[49m\u001b[43mbody\u001b[49m\u001b[38;5;241;43m=\u001b[39;49m\u001b[43mbody\u001b[49m\u001b[43m,\u001b[49m\n\u001b[0;32m    709\u001b[0m \u001b[43m    \u001b[49m\u001b[43mheaders\u001b[49m\u001b[38;5;241;43m=\u001b[39;49m\u001b[43mheaders\u001b[49m\u001b[43m,\u001b[49m\n\u001b[0;32m    710\u001b[0m \u001b[43m    \u001b[49m\u001b[43mchunked\u001b[49m\u001b[38;5;241;43m=\u001b[39;49m\u001b[43mchunked\u001b[49m\u001b[43m,\u001b[49m\n\u001b[0;32m    711\u001b[0m \u001b[43m\u001b[49m\u001b[43m)\u001b[49m\n\u001b[0;32m    713\u001b[0m \u001b[38;5;66;03m# If we're going to release the connection in ``finally:``, then\u001b[39;00m\n\u001b[0;32m    714\u001b[0m \u001b[38;5;66;03m# the response doesn't need to know about the connection. Otherwise\u001b[39;00m\n\u001b[0;32m    715\u001b[0m \u001b[38;5;66;03m# it will also try to release it and we'll have a double-release\u001b[39;00m\n\u001b[0;32m    716\u001b[0m \u001b[38;5;66;03m# mess.\u001b[39;00m\n",
      "File \u001b[1;32m~\\anaconda3\\envs\\webscrape\\lib\\site-packages\\urllib3\\connectionpool.py:386\u001b[0m, in \u001b[0;36mHTTPConnectionPool._make_request\u001b[1;34m(self, conn, method, url, timeout, chunked, **httplib_request_kw)\u001b[0m\n\u001b[0;32m    385\u001b[0m \u001b[38;5;28;01mtry\u001b[39;00m:\n\u001b[1;32m--> 386\u001b[0m     \u001b[38;5;28;43mself\u001b[39;49m\u001b[38;5;241;43m.\u001b[39;49m\u001b[43m_validate_conn\u001b[49m\u001b[43m(\u001b[49m\u001b[43mconn\u001b[49m\u001b[43m)\u001b[49m\n\u001b[0;32m    387\u001b[0m \u001b[38;5;28;01mexcept\u001b[39;00m (SocketTimeout, BaseSSLError) \u001b[38;5;28;01mas\u001b[39;00m e:\n\u001b[0;32m    388\u001b[0m     \u001b[38;5;66;03m# Py2 raises this as a BaseSSLError, Py3 raises it as socket timeout.\u001b[39;00m\n",
      "File \u001b[1;32m~\\anaconda3\\envs\\webscrape\\lib\\site-packages\\urllib3\\connectionpool.py:1042\u001b[0m, in \u001b[0;36mHTTPSConnectionPool._validate_conn\u001b[1;34m(self, conn)\u001b[0m\n\u001b[0;32m   1041\u001b[0m \u001b[38;5;28;01mif\u001b[39;00m \u001b[38;5;129;01mnot\u001b[39;00m \u001b[38;5;28mgetattr\u001b[39m(conn, \u001b[38;5;124m\"\u001b[39m\u001b[38;5;124msock\u001b[39m\u001b[38;5;124m\"\u001b[39m, \u001b[38;5;28;01mNone\u001b[39;00m):  \u001b[38;5;66;03m# AppEngine might not have  `.sock`\u001b[39;00m\n\u001b[1;32m-> 1042\u001b[0m     \u001b[43mconn\u001b[49m\u001b[38;5;241;43m.\u001b[39;49m\u001b[43mconnect\u001b[49m\u001b[43m(\u001b[49m\u001b[43m)\u001b[49m\n\u001b[0;32m   1044\u001b[0m \u001b[38;5;28;01mif\u001b[39;00m \u001b[38;5;129;01mnot\u001b[39;00m conn\u001b[38;5;241m.\u001b[39mis_verified:\n",
      "File \u001b[1;32m~\\anaconda3\\envs\\webscrape\\lib\\site-packages\\urllib3\\connection.py:358\u001b[0m, in \u001b[0;36mHTTPSConnection.connect\u001b[1;34m(self)\u001b[0m\n\u001b[0;32m    356\u001b[0m \u001b[38;5;28;01mdef\u001b[39;00m \u001b[38;5;21mconnect\u001b[39m(\u001b[38;5;28mself\u001b[39m):\n\u001b[0;32m    357\u001b[0m     \u001b[38;5;66;03m# Add certificate verification\u001b[39;00m\n\u001b[1;32m--> 358\u001b[0m     \u001b[38;5;28mself\u001b[39m\u001b[38;5;241m.\u001b[39msock \u001b[38;5;241m=\u001b[39m conn \u001b[38;5;241m=\u001b[39m \u001b[38;5;28;43mself\u001b[39;49m\u001b[38;5;241;43m.\u001b[39;49m\u001b[43m_new_conn\u001b[49m\u001b[43m(\u001b[49m\u001b[43m)\u001b[49m\n\u001b[0;32m    359\u001b[0m     hostname \u001b[38;5;241m=\u001b[39m \u001b[38;5;28mself\u001b[39m\u001b[38;5;241m.\u001b[39mhost\n",
      "File \u001b[1;32m~\\anaconda3\\envs\\webscrape\\lib\\site-packages\\urllib3\\connection.py:186\u001b[0m, in \u001b[0;36mHTTPConnection._new_conn\u001b[1;34m(self)\u001b[0m\n\u001b[0;32m    185\u001b[0m \u001b[38;5;28;01mexcept\u001b[39;00m SocketError \u001b[38;5;28;01mas\u001b[39;00m e:\n\u001b[1;32m--> 186\u001b[0m     \u001b[38;5;28;01mraise\u001b[39;00m NewConnectionError(\n\u001b[0;32m    187\u001b[0m         \u001b[38;5;28mself\u001b[39m, \u001b[38;5;124m\"\u001b[39m\u001b[38;5;124mFailed to establish a new connection: \u001b[39m\u001b[38;5;132;01m%s\u001b[39;00m\u001b[38;5;124m\"\u001b[39m \u001b[38;5;241m%\u001b[39m e\n\u001b[0;32m    188\u001b[0m     )\n\u001b[0;32m    190\u001b[0m \u001b[38;5;28;01mreturn\u001b[39;00m conn\n",
      "\u001b[1;31mNewConnectionError\u001b[0m: <urllib3.connection.HTTPSConnection object at 0x000001F20B226EC0>: Failed to establish a new connection: [Errno 11001] getaddrinfo failed",
      "\nDuring handling of the above exception, another exception occurred:\n",
      "\u001b[1;31mMaxRetryError\u001b[0m                             Traceback (most recent call last)",
      "File \u001b[1;32m~\\anaconda3\\envs\\webscrape\\lib\\site-packages\\requests\\adapters.py:489\u001b[0m, in \u001b[0;36mHTTPAdapter.send\u001b[1;34m(self, request, stream, timeout, verify, cert, proxies)\u001b[0m\n\u001b[0;32m    488\u001b[0m \u001b[38;5;28;01mif\u001b[39;00m \u001b[38;5;129;01mnot\u001b[39;00m chunked:\n\u001b[1;32m--> 489\u001b[0m     resp \u001b[38;5;241m=\u001b[39m \u001b[43mconn\u001b[49m\u001b[38;5;241;43m.\u001b[39;49m\u001b[43murlopen\u001b[49m\u001b[43m(\u001b[49m\n\u001b[0;32m    490\u001b[0m \u001b[43m        \u001b[49m\u001b[43mmethod\u001b[49m\u001b[38;5;241;43m=\u001b[39;49m\u001b[43mrequest\u001b[49m\u001b[38;5;241;43m.\u001b[39;49m\u001b[43mmethod\u001b[49m\u001b[43m,\u001b[49m\n\u001b[0;32m    491\u001b[0m \u001b[43m        \u001b[49m\u001b[43murl\u001b[49m\u001b[38;5;241;43m=\u001b[39;49m\u001b[43murl\u001b[49m\u001b[43m,\u001b[49m\n\u001b[0;32m    492\u001b[0m \u001b[43m        \u001b[49m\u001b[43mbody\u001b[49m\u001b[38;5;241;43m=\u001b[39;49m\u001b[43mrequest\u001b[49m\u001b[38;5;241;43m.\u001b[39;49m\u001b[43mbody\u001b[49m\u001b[43m,\u001b[49m\n\u001b[0;32m    493\u001b[0m \u001b[43m        \u001b[49m\u001b[43mheaders\u001b[49m\u001b[38;5;241;43m=\u001b[39;49m\u001b[43mrequest\u001b[49m\u001b[38;5;241;43m.\u001b[39;49m\u001b[43mheaders\u001b[49m\u001b[43m,\u001b[49m\n\u001b[0;32m    494\u001b[0m \u001b[43m        \u001b[49m\u001b[43mredirect\u001b[49m\u001b[38;5;241;43m=\u001b[39;49m\u001b[38;5;28;43;01mFalse\u001b[39;49;00m\u001b[43m,\u001b[49m\n\u001b[0;32m    495\u001b[0m \u001b[43m        \u001b[49m\u001b[43massert_same_host\u001b[49m\u001b[38;5;241;43m=\u001b[39;49m\u001b[38;5;28;43;01mFalse\u001b[39;49;00m\u001b[43m,\u001b[49m\n\u001b[0;32m    496\u001b[0m \u001b[43m        \u001b[49m\u001b[43mpreload_content\u001b[49m\u001b[38;5;241;43m=\u001b[39;49m\u001b[38;5;28;43;01mFalse\u001b[39;49;00m\u001b[43m,\u001b[49m\n\u001b[0;32m    497\u001b[0m \u001b[43m        \u001b[49m\u001b[43mdecode_content\u001b[49m\u001b[38;5;241;43m=\u001b[39;49m\u001b[38;5;28;43;01mFalse\u001b[39;49;00m\u001b[43m,\u001b[49m\n\u001b[0;32m    498\u001b[0m \u001b[43m        \u001b[49m\u001b[43mretries\u001b[49m\u001b[38;5;241;43m=\u001b[39;49m\u001b[38;5;28;43mself\u001b[39;49m\u001b[38;5;241;43m.\u001b[39;49m\u001b[43mmax_retries\u001b[49m\u001b[43m,\u001b[49m\n\u001b[0;32m    499\u001b[0m \u001b[43m        \u001b[49m\u001b[43mtimeout\u001b[49m\u001b[38;5;241;43m=\u001b[39;49m\u001b[43mtimeout\u001b[49m\u001b[43m,\u001b[49m\n\u001b[0;32m    500\u001b[0m \u001b[43m    \u001b[49m\u001b[43m)\u001b[49m\n\u001b[0;32m    502\u001b[0m \u001b[38;5;66;03m# Send the request.\u001b[39;00m\n\u001b[0;32m    503\u001b[0m \u001b[38;5;28;01melse\u001b[39;00m:\n",
      "File \u001b[1;32m~\\anaconda3\\envs\\webscrape\\lib\\site-packages\\urllib3\\connectionpool.py:787\u001b[0m, in \u001b[0;36mHTTPConnectionPool.urlopen\u001b[1;34m(self, method, url, body, headers, retries, redirect, assert_same_host, timeout, pool_timeout, release_conn, chunked, body_pos, **response_kw)\u001b[0m\n\u001b[0;32m    785\u001b[0m     e \u001b[38;5;241m=\u001b[39m ProtocolError(\u001b[38;5;124m\"\u001b[39m\u001b[38;5;124mConnection aborted.\u001b[39m\u001b[38;5;124m\"\u001b[39m, e)\n\u001b[1;32m--> 787\u001b[0m retries \u001b[38;5;241m=\u001b[39m \u001b[43mretries\u001b[49m\u001b[38;5;241;43m.\u001b[39;49m\u001b[43mincrement\u001b[49m\u001b[43m(\u001b[49m\n\u001b[0;32m    788\u001b[0m \u001b[43m    \u001b[49m\u001b[43mmethod\u001b[49m\u001b[43m,\u001b[49m\u001b[43m \u001b[49m\u001b[43murl\u001b[49m\u001b[43m,\u001b[49m\u001b[43m \u001b[49m\u001b[43merror\u001b[49m\u001b[38;5;241;43m=\u001b[39;49m\u001b[43me\u001b[49m\u001b[43m,\u001b[49m\u001b[43m \u001b[49m\u001b[43m_pool\u001b[49m\u001b[38;5;241;43m=\u001b[39;49m\u001b[38;5;28;43mself\u001b[39;49m\u001b[43m,\u001b[49m\u001b[43m \u001b[49m\u001b[43m_stacktrace\u001b[49m\u001b[38;5;241;43m=\u001b[39;49m\u001b[43msys\u001b[49m\u001b[38;5;241;43m.\u001b[39;49m\u001b[43mexc_info\u001b[49m\u001b[43m(\u001b[49m\u001b[43m)\u001b[49m\u001b[43m[\u001b[49m\u001b[38;5;241;43m2\u001b[39;49m\u001b[43m]\u001b[49m\n\u001b[0;32m    789\u001b[0m \u001b[43m\u001b[49m\u001b[43m)\u001b[49m\n\u001b[0;32m    790\u001b[0m retries\u001b[38;5;241m.\u001b[39msleep()\n",
      "File \u001b[1;32m~\\anaconda3\\envs\\webscrape\\lib\\site-packages\\urllib3\\util\\retry.py:592\u001b[0m, in \u001b[0;36mRetry.increment\u001b[1;34m(self, method, url, response, error, _pool, _stacktrace)\u001b[0m\n\u001b[0;32m    591\u001b[0m \u001b[38;5;28;01mif\u001b[39;00m new_retry\u001b[38;5;241m.\u001b[39mis_exhausted():\n\u001b[1;32m--> 592\u001b[0m     \u001b[38;5;28;01mraise\u001b[39;00m MaxRetryError(_pool, url, error \u001b[38;5;129;01mor\u001b[39;00m ResponseError(cause))\n\u001b[0;32m    594\u001b[0m log\u001b[38;5;241m.\u001b[39mdebug(\u001b[38;5;124m\"\u001b[39m\u001b[38;5;124mIncremented Retry for (url=\u001b[39m\u001b[38;5;124m'\u001b[39m\u001b[38;5;132;01m%s\u001b[39;00m\u001b[38;5;124m'\u001b[39m\u001b[38;5;124m): \u001b[39m\u001b[38;5;132;01m%r\u001b[39;00m\u001b[38;5;124m\"\u001b[39m, url, new_retry)\n",
      "\u001b[1;31mMaxRetryError\u001b[0m: HTTPSConnectionPool(host='www.wine-searcher.com', port=443): Max retries exceeded with url: /grape-2204-agave-spirit (Caused by NewConnectionError('<urllib3.connection.HTTPSConnection object at 0x000001F20B226EC0>: Failed to establish a new connection: [Errno 11001] getaddrinfo failed'))",
      "\nDuring handling of the above exception, another exception occurred:\n",
      "\u001b[1;31mConnectionError\u001b[0m                           Traceback (most recent call last)",
      "Input \u001b[1;32mIn [49]\u001b[0m, in \u001b[0;36m<cell line: 12>\u001b[1;34m()\u001b[0m\n\u001b[0;32m     24\u001b[0m     \u001b[38;5;28mprint\u001b[39m(\u001b[38;5;124m\"\u001b[39m\u001b[38;5;124mSuccess\u001b[39m\u001b[38;5;124m\"\u001b[39m)\n\u001b[0;32m     26\u001b[0m \u001b[38;5;28;01mexcept\u001b[39;00m:\n\u001b[1;32m---> 27\u001b[0m     error \u001b[38;5;241m=\u001b[39m \u001b[43mrequests\u001b[49m\u001b[38;5;241;43m.\u001b[39;49m\u001b[43mget\u001b[49m\u001b[43m(\u001b[49m\u001b[43murl\u001b[49m\u001b[43m,\u001b[49m\u001b[43m \u001b[49m\u001b[43mheaders\u001b[49m\u001b[43m \u001b[49m\u001b[38;5;241;43m=\u001b[39;49m\u001b[43m \u001b[49m\u001b[43mheaders\u001b[49m\u001b[43m)\u001b[49m\n\u001b[0;32m     28\u001b[0m     error_dict[url] \u001b[38;5;241m=\u001b[39m error\n\u001b[0;32m     29\u001b[0m     \u001b[38;5;28mprint\u001b[39m(\u001b[38;5;124mf\u001b[39m\u001b[38;5;124m\"\u001b[39m\u001b[38;5;132;01m{\u001b[39;00murl\u001b[38;5;132;01m}\u001b[39;00m\u001b[38;5;124m Failed to respond\u001b[39m\u001b[38;5;124m\"\u001b[39m)\n",
      "File \u001b[1;32m~\\anaconda3\\envs\\webscrape\\lib\\site-packages\\requests\\api.py:73\u001b[0m, in \u001b[0;36mget\u001b[1;34m(url, params, **kwargs)\u001b[0m\n\u001b[0;32m     62\u001b[0m \u001b[38;5;28;01mdef\u001b[39;00m \u001b[38;5;21mget\u001b[39m(url, params\u001b[38;5;241m=\u001b[39m\u001b[38;5;28;01mNone\u001b[39;00m, \u001b[38;5;241m*\u001b[39m\u001b[38;5;241m*\u001b[39mkwargs):\n\u001b[0;32m     63\u001b[0m     \u001b[38;5;124mr\u001b[39m\u001b[38;5;124;03m\"\"\"Sends a GET request.\u001b[39;00m\n\u001b[0;32m     64\u001b[0m \n\u001b[0;32m     65\u001b[0m \u001b[38;5;124;03m    :param url: URL for the new :class:`Request` object.\u001b[39;00m\n\u001b[1;32m   (...)\u001b[0m\n\u001b[0;32m     70\u001b[0m \u001b[38;5;124;03m    :rtype: requests.Response\u001b[39;00m\n\u001b[0;32m     71\u001b[0m \u001b[38;5;124;03m    \"\"\"\u001b[39;00m\n\u001b[1;32m---> 73\u001b[0m     \u001b[38;5;28;01mreturn\u001b[39;00m request(\u001b[38;5;124m\"\u001b[39m\u001b[38;5;124mget\u001b[39m\u001b[38;5;124m\"\u001b[39m, url, params\u001b[38;5;241m=\u001b[39mparams, \u001b[38;5;241m*\u001b[39m\u001b[38;5;241m*\u001b[39mkwargs)\n",
      "File \u001b[1;32m~\\anaconda3\\envs\\webscrape\\lib\\site-packages\\requests\\api.py:59\u001b[0m, in \u001b[0;36mrequest\u001b[1;34m(method, url, **kwargs)\u001b[0m\n\u001b[0;32m     55\u001b[0m \u001b[38;5;66;03m# By using the 'with' statement we are sure the session is closed, thus we\u001b[39;00m\n\u001b[0;32m     56\u001b[0m \u001b[38;5;66;03m# avoid leaving sockets open which can trigger a ResourceWarning in some\u001b[39;00m\n\u001b[0;32m     57\u001b[0m \u001b[38;5;66;03m# cases, and look like a memory leak in others.\u001b[39;00m\n\u001b[0;32m     58\u001b[0m \u001b[38;5;28;01mwith\u001b[39;00m sessions\u001b[38;5;241m.\u001b[39mSession() \u001b[38;5;28;01mas\u001b[39;00m session:\n\u001b[1;32m---> 59\u001b[0m     \u001b[38;5;28;01mreturn\u001b[39;00m session\u001b[38;5;241m.\u001b[39mrequest(method\u001b[38;5;241m=\u001b[39mmethod, url\u001b[38;5;241m=\u001b[39murl, \u001b[38;5;241m*\u001b[39m\u001b[38;5;241m*\u001b[39mkwargs)\n",
      "File \u001b[1;32m~\\anaconda3\\envs\\webscrape\\lib\\site-packages\\requests\\sessions.py:587\u001b[0m, in \u001b[0;36mSession.request\u001b[1;34m(self, method, url, params, data, headers, cookies, files, auth, timeout, allow_redirects, proxies, hooks, stream, verify, cert, json)\u001b[0m\n\u001b[0;32m    582\u001b[0m send_kwargs \u001b[38;5;241m=\u001b[39m {\n\u001b[0;32m    583\u001b[0m     \u001b[38;5;124m\"\u001b[39m\u001b[38;5;124mtimeout\u001b[39m\u001b[38;5;124m\"\u001b[39m: timeout,\n\u001b[0;32m    584\u001b[0m     \u001b[38;5;124m\"\u001b[39m\u001b[38;5;124mallow_redirects\u001b[39m\u001b[38;5;124m\"\u001b[39m: allow_redirects,\n\u001b[0;32m    585\u001b[0m }\n\u001b[0;32m    586\u001b[0m send_kwargs\u001b[38;5;241m.\u001b[39mupdate(settings)\n\u001b[1;32m--> 587\u001b[0m resp \u001b[38;5;241m=\u001b[39m \u001b[38;5;28mself\u001b[39m\u001b[38;5;241m.\u001b[39msend(prep, \u001b[38;5;241m*\u001b[39m\u001b[38;5;241m*\u001b[39msend_kwargs)\n\u001b[0;32m    589\u001b[0m \u001b[38;5;28;01mreturn\u001b[39;00m resp\n",
      "File \u001b[1;32m~\\anaconda3\\envs\\webscrape\\lib\\site-packages\\requests\\sessions.py:701\u001b[0m, in \u001b[0;36mSession.send\u001b[1;34m(self, request, **kwargs)\u001b[0m\n\u001b[0;32m    698\u001b[0m start \u001b[38;5;241m=\u001b[39m preferred_clock()\n\u001b[0;32m    700\u001b[0m \u001b[38;5;66;03m# Send the request\u001b[39;00m\n\u001b[1;32m--> 701\u001b[0m r \u001b[38;5;241m=\u001b[39m adapter\u001b[38;5;241m.\u001b[39msend(request, \u001b[38;5;241m*\u001b[39m\u001b[38;5;241m*\u001b[39mkwargs)\n\u001b[0;32m    703\u001b[0m \u001b[38;5;66;03m# Total elapsed time of the request (approximately)\u001b[39;00m\n\u001b[0;32m    704\u001b[0m elapsed \u001b[38;5;241m=\u001b[39m preferred_clock() \u001b[38;5;241m-\u001b[39m start\n",
      "File \u001b[1;32m~\\anaconda3\\envs\\webscrape\\lib\\site-packages\\requests\\adapters.py:565\u001b[0m, in \u001b[0;36mHTTPAdapter.send\u001b[1;34m(self, request, stream, timeout, verify, cert, proxies)\u001b[0m\n\u001b[0;32m    561\u001b[0m     \u001b[38;5;28;01mif\u001b[39;00m \u001b[38;5;28misinstance\u001b[39m(e\u001b[38;5;241m.\u001b[39mreason, _SSLError):\n\u001b[0;32m    562\u001b[0m         \u001b[38;5;66;03m# This branch is for urllib3 v1.22 and later.\u001b[39;00m\n\u001b[0;32m    563\u001b[0m         \u001b[38;5;28;01mraise\u001b[39;00m SSLError(e, request\u001b[38;5;241m=\u001b[39mrequest)\n\u001b[1;32m--> 565\u001b[0m     \u001b[38;5;28;01mraise\u001b[39;00m \u001b[38;5;167;01mConnectionError\u001b[39;00m(e, request\u001b[38;5;241m=\u001b[39mrequest)\n\u001b[0;32m    567\u001b[0m \u001b[38;5;28;01mexcept\u001b[39;00m ClosedPoolError \u001b[38;5;28;01mas\u001b[39;00m e:\n\u001b[0;32m    568\u001b[0m     \u001b[38;5;28;01mraise\u001b[39;00m \u001b[38;5;167;01mConnectionError\u001b[39;00m(e, request\u001b[38;5;241m=\u001b[39mrequest)\n",
      "\u001b[1;31mConnectionError\u001b[0m: HTTPSConnectionPool(host='www.wine-searcher.com', port=443): Max retries exceeded with url: /grape-2204-agave-spirit (Caused by NewConnectionError('<urllib3.connection.HTTPSConnection object at 0x000001F20B226EC0>: Failed to establish a new connection: [Errno 11001] getaddrinfo failed'))"
     ]
    }
   ],
   "source": [
    "user_agent_list = [\n",
    "    'Mozilla/5.0 (Windows NT 10.0; Win64; x64) AppleWebKit/537.36 (KHTML, like Gecko) Chrome/93.0.4577.82 Safari/537.36',\n",
    "    'Mozilla/5.0 (iPhone; CPU iPhone OS 14_4_2 like Mac OS X) AppleWebKit/605.1.15 (KHTML, like Gecko) Version/14.0.3 Mobile/15E148 Safari/604.1',\n",
    "    'Mozilla/4.0 (compatible; MSIE 9.0; Windows NT 6.1)',\n",
    "    'Mozilla/5.0 (Windows NT 10.0; Win64; x64) AppleWebKit/537.36 (KHTML, like Gecko) Chrome/87.0.4280.141 Safari/537.36 Edg/87.0.664.75',\n",
    "    'Mozilla/5.0 (Windows NT 10.0; Win64; x64) AppleWebKit/537.36 (KHTML, like Gecko) Chrome/70.0.3538.102 Safari/537.36 Edge/18.18363',\n",
    "]\n",
    "\n",
    "count = 0\n",
    "df_list = []\n",
    "error_dict = {}\n",
    "for url in list_links:\n",
    "    count+=1\n",
    "    print(f\"{count} over 50\")\n",
    "    try:\n",
    "        response = requests.get(url, headers = {\n",
    "    \"User-Agent\": user_agent_list[random.randint(0, len(user_agent_list)-1)]\n",
    "        })\n",
    "        soup = BeautifulSoup(response.content, \"html.parser\")\n",
    "        table = soup.find_all(\"table\", \"table\")\n",
    "        pre_table = pd.read_html(str(table[0]))\n",
    "        df = pre_table[0]\n",
    "        df_list.append(df)\n",
    "        print(\"Success\")\n",
    "    \n",
    "    except:\n",
    "        error = requests.get(url, headers = headers)\n",
    "        error_dict[url] = error\n",
    "        print(f\"{url} Failed to respond\")"
   ]
  },
  {
   "cell_type": "code",
   "execution_count": 24,
   "id": "c740106b",
   "metadata": {},
   "outputs": [
    {
     "data": {
      "text/plain": [
       "{'https://www.wine-searcher.com/grape-2204-agave-spirit': <Response [403]>,\n",
       " 'https://www.wine-searcher.com/grape-2204-agave-spirit/26': <Response [403]>,\n",
       " 'https://www.wine-searcher.com/grape-2204-agave-spirit/51': <Response [403]>,\n",
       " 'https://www.wine-searcher.com/grape-2204-agave-spirit/76': <Response [403]>,\n",
       " 'https://www.wine-searcher.com/grape-2204-agave-spirit/101': <Response [403]>,\n",
       " 'https://www.wine-searcher.com/grape-2204-agave-spirit/126': <Response [403]>,\n",
       " 'https://www.wine-searcher.com/grape-2204-agave-spirit/151': <Response [403]>,\n",
       " 'https://www.wine-searcher.com/grape-2204-agave-spirit/176': <Response [403]>,\n",
       " 'https://www.wine-searcher.com/grape-2204-agave-spirit/201': <Response [403]>,\n",
       " 'https://www.wine-searcher.com/grape-2204-agave-spirit/226': <Response [403]>,\n",
       " 'https://www.wine-searcher.com/grape-2204-agave-spirit/251': <Response [403]>,\n",
       " 'https://www.wine-searcher.com/grape-686-agiorgitiko': <Response [403]>,\n",
       " 'https://www.wine-searcher.com/grape-686-agiorgitiko/26': <Response [403]>,\n",
       " 'https://www.wine-searcher.com/grape-686-agiorgitiko/51': <Response [403]>,\n",
       " 'https://www.wine-searcher.com/grape-686-agiorgitiko/76': <Response [403]>,\n",
       " 'https://www.wine-searcher.com/grape-686-agiorgitiko/101': <Response [403]>,\n",
       " 'https://www.wine-searcher.com/grape-5-aglianico': <Response [403]>,\n",
       " 'https://www.wine-searcher.com/grape-5-aglianico/26': <Response [403]>,\n",
       " 'https://www.wine-searcher.com/grape-5-aglianico/51': <Response [403]>,\n",
       " 'https://www.wine-searcher.com/grape-5-aglianico/76': <Response [403]>,\n",
       " 'https://www.wine-searcher.com/grape-5-aglianico/101': <Response [403]>,\n",
       " 'https://www.wine-searcher.com/grape-5-aglianico/126': <Response [403]>,\n",
       " 'https://www.wine-searcher.com/grape-5-aglianico/151': <Response [403]>,\n",
       " 'https://www.wine-searcher.com/grape-5-aglianico/176': <Response [403]>,\n",
       " 'https://www.wine-searcher.com/grape-5-aglianico/201': <Response [403]>,\n",
       " 'https://www.wine-searcher.com/grape-5-aglianico/226': <Response [403]>,\n",
       " 'https://www.wine-searcher.com/grape-5-aglianico/251': <Response [403]>,\n",
       " 'https://www.wine-searcher.com/grape-5-aglianico/276': <Response [403]>,\n",
       " 'https://www.wine-searcher.com/grape-5-aglianico/301': <Response [403]>,\n",
       " 'https://www.wine-searcher.com/grape-5-aglianico/326': <Response [403]>,\n",
       " 'https://www.wine-searcher.com/grape-5-aglianico/351': <Response [403]>,\n",
       " 'https://www.wine-searcher.com/grape-5-aglianico/376': <Response [403]>,\n",
       " 'https://www.wine-searcher.com/grape-5-aglianico/401': <Response [403]>,\n",
       " 'https://www.wine-searcher.com/grape-5-aglianico/426': <Response [403]>,\n",
       " 'https://www.wine-searcher.com/grape-5-aglianico/451': <Response [403]>,\n",
       " 'https://www.wine-searcher.com/grape-5-aglianico/476': <Response [403]>,\n",
       " 'https://www.wine-searcher.com/grape-1974-aglianico-piedirosso': <Response [403]>,\n",
       " 'https://www.wine-searcher.com/grape-1974-aglianico-piedirosso/26': <Response [403]>,\n",
       " 'https://www.wine-searcher.com/grape-1974-aglianico-piedirosso/51': <Response [403]>,\n",
       " 'https://www.wine-searcher.com/grape-1121-aidani': <Response [403]>,\n",
       " 'https://www.wine-searcher.com/grape-688-airen': <Response [403]>,\n",
       " 'https://www.wine-searcher.com/grape-688-airen/26': <Response [403]>,\n",
       " 'https://www.wine-searcher.com/grape-688-airen/51': <Response [403]>,\n",
       " 'https://www.wine-searcher.com/grape-688-airen/76': <Response [403]>,\n",
       " 'https://www.wine-searcher.com/grape-2256-akvavit': <Response [403]>,\n",
       " 'https://www.wine-searcher.com/grape-2256-akvavit/26': <Response [403]>,\n",
       " 'https://www.wine-searcher.com/grape-2256-akvavit/51': <Response [403]>,\n",
       " 'https://www.wine-searcher.com/grape-2256-akvavit/76': <Response [403]>,\n",
       " 'https://www.wine-searcher.com/grape-2256-akvavit/101': <Response [403]>,\n",
       " 'https://www.wine-searcher.com/grape-1122-aladasturi': <Response [403]>}"
      ]
     },
     "execution_count": 24,
     "metadata": {},
     "output_type": "execute_result"
    }
   ],
   "source": [
    "error_dict"
   ]
  },
  {
   "cell_type": "code",
   "execution_count": 2,
   "id": "814906a9",
   "metadata": {},
   "outputs": [],
   "source": [
    "#Start from here\n",
    "from glob import glob\n",
    "import pandas as pd"
   ]
  },
  {
   "cell_type": "code",
   "execution_count": 3,
   "id": "26ff18f1",
   "metadata": {},
   "outputs": [],
   "source": [
    "web_files = glob(\"Webpage/*html\")"
   ]
  },
  {
   "cell_type": "code",
   "execution_count": 20,
   "id": "26e9c582",
   "metadata": {},
   "outputs": [
    {
     "data": {
      "text/plain": [
       "['Webpage\\\\26 (1).html', 'Webpage\\\\26 (2).html', 'Webpage\\\\26 (3).html']"
      ]
     },
     "execution_count": 20,
     "metadata": {},
     "output_type": "execute_result"
    }
   ],
   "source": [
    "web_files[:3]"
   ]
  },
  {
   "cell_type": "code",
   "execution_count": 66,
   "id": "3bfe4de7",
   "metadata": {},
   "outputs": [],
   "source": [
    "import html"
   ]
  },
  {
   "cell_type": "code",
   "execution_count": 78,
   "id": "4e1f3a81",
   "metadata": {},
   "outputs": [],
   "source": [
    "#Reading and parsing a html file\n",
    "\n",
    "# with open(\"Webpage\\\\26 (1).html\", mode='rb') as file:\n",
    "#     xxx = file.read()\n",
    "\n",
    "# soup = BeautifulSoup(xxx, \"html.parser\")\n",
    "\n",
    "# soup.find(\"table\", \"table\")"
   ]
  },
  {
   "cell_type": "code",
   "execution_count": 4,
   "id": "5681bc80",
   "metadata": {},
   "outputs": [],
   "source": [
    "pd_list = []\n",
    "for web in web_files:\n",
    "    pd_list.append(pd.read_html(web)[0])"
   ]
  },
  {
   "cell_type": "code",
   "execution_count": 5,
   "id": "5d5d6b9f",
   "metadata": {},
   "outputs": [],
   "source": [
    "df = pd.concat(pd_list)"
   ]
  },
  {
   "cell_type": "code",
   "execution_count": 6,
   "id": "78890534",
   "metadata": {},
   "outputs": [
    {
     "data": {
      "text/html": [
       "<div>\n",
       "<style scoped>\n",
       "    .dataframe tbody tr th:only-of-type {\n",
       "        vertical-align: middle;\n",
       "    }\n",
       "\n",
       "    .dataframe tbody tr th {\n",
       "        vertical-align: top;\n",
       "    }\n",
       "\n",
       "    .dataframe thead th {\n",
       "        text-align: right;\n",
       "    }\n",
       "</style>\n",
       "<table border=\"1\" class=\"dataframe\">\n",
       "  <thead>\n",
       "    <tr style=\"text-align: right;\">\n",
       "      <th></th>\n",
       "      <th>Product</th>\n",
       "      <th>Region Popularity Critics' Score Avg. Price / 750ml</th>\n",
       "    </tr>\n",
       "  </thead>\n",
       "  <tbody>\n",
       "    <tr>\n",
       "      <th>0</th>\n",
       "      <td>NaN</td>\n",
       "      <td>Herdade Paco do Conde Reserva Branco, Vinho Re...</td>\n",
       "    </tr>\n",
       "    <tr>\n",
       "      <th>1</th>\n",
       "      <td>NaN</td>\n",
       "      <td>Paulo Laureano Branco, Vinho Regional Alenteja...</td>\n",
       "    </tr>\n",
       "    <tr>\n",
       "      <th>2</th>\n",
       "      <td>NaN</td>\n",
       "      <td>Paulo Laureano Vinhas Velhas Private Selection...</td>\n",
       "    </tr>\n",
       "    <tr>\n",
       "      <th>3</th>\n",
       "      <td>NaN</td>\n",
       "      <td>Ribafreixo Pato Frio Antao Vaz, Alentejo, Port...</td>\n",
       "    </tr>\n",
       "    <tr>\n",
       "      <th>4</th>\n",
       "      <td>NaN</td>\n",
       "      <td>Adega Cooperativa de Vidigueira 'Vila dos Gama...</td>\n",
       "    </tr>\n",
       "  </tbody>\n",
       "</table>\n",
       "</div>"
      ],
      "text/plain": [
       "   Product Region Popularity Critics' Score Avg. Price / 750ml\n",
       "0      NaN  Herdade Paco do Conde Reserva Branco, Vinho Re... \n",
       "1      NaN  Paulo Laureano Branco, Vinho Regional Alenteja... \n",
       "2      NaN  Paulo Laureano Vinhas Velhas Private Selection... \n",
       "3      NaN  Ribafreixo Pato Frio Antao Vaz, Alentejo, Port... \n",
       "4      NaN  Adega Cooperativa de Vidigueira 'Vila dos Gama... "
      ]
     },
     "execution_count": 6,
     "metadata": {},
     "output_type": "execute_result"
    }
   ],
   "source": [
    "df.head()"
   ]
  },
  {
   "cell_type": "code",
   "execution_count": 23,
   "id": "571fbb85",
   "metadata": {},
   "outputs": [
    {
     "data": {
      "text/plain": [
       "144"
      ]
     },
     "execution_count": 23,
     "metadata": {},
     "output_type": "execute_result"
    }
   ],
   "source": [
    "sum(df[\"Region Popularity Critics\\' Score Avg. Price / 750ml\"].duplicated())"
   ]
  },
  {
   "cell_type": "code",
   "execution_count": 18,
   "id": "5cedf9ac",
   "metadata": {},
   "outputs": [
    {
     "data": {
      "text/plain": [
       "'Paulo Laureano Branco, Vinho Regional Alentejano, Portugal Alentejo 230,354th in popularity  1,973 ₦ / 750ml'"
      ]
     },
     "execution_count": 18,
     "metadata": {},
     "output_type": "execute_result"
    }
   ],
   "source": [
    "df.loc[1, \"Region Popularity Critics\\' Score Avg. Price / 750ml\"][:1][1]"
   ]
  },
  {
   "cell_type": "code",
   "execution_count": 124,
   "id": "0d6faf16",
   "metadata": {},
   "outputs": [
    {
     "data": {
      "text/plain": [
       "(333, 2)"
      ]
     },
     "execution_count": 124,
     "metadata": {},
     "output_type": "execute_result"
    }
   ],
   "source": [
    "df.shape"
   ]
  },
  {
   "cell_type": "markdown",
   "id": "1297df42",
   "metadata": {},
   "source": [
    "##  Assessment\n",
    "\n",
    "- Columns improperly labelled\n",
    "- Missing values of Product totally empty\n",
    "- All values within a single cell and lumped together\n",
    "- Duplicate entries."
   ]
  },
  {
   "cell_type": "markdown",
   "id": "07208a73",
   "metadata": {},
   "source": [
    "### Cleaning"
   ]
  },
  {
   "cell_type": "markdown",
   "id": "408fe011",
   "metadata": {},
   "source": [
    "#### Define\n",
    "\n",
    "- Delete duplicate files"
   ]
  },
  {
   "cell_type": "markdown",
   "id": "a6b73812",
   "metadata": {},
   "source": [
    "#### Code"
   ]
  },
  {
   "cell_type": "code",
   "execution_count": 27,
   "id": "702c43f2",
   "metadata": {},
   "outputs": [],
   "source": [
    "df = df[~(df[\"Region Popularity Critics\\' Score Avg. Price / 750ml\"].duplicated())]"
   ]
  },
  {
   "cell_type": "markdown",
   "id": "e91a194f",
   "metadata": {},
   "source": [
    "#### Test"
   ]
  },
  {
   "cell_type": "code",
   "execution_count": 28,
   "id": "ce72b32c",
   "metadata": {},
   "outputs": [
    {
     "data": {
      "text/plain": [
       "0"
      ]
     },
     "execution_count": 28,
     "metadata": {},
     "output_type": "execute_result"
    }
   ],
   "source": [
    "sum(df[\"Region Popularity Critics\\' Score Avg. Price / 750ml\"].duplicated())"
   ]
  },
  {
   "cell_type": "markdown",
   "id": "8adf8745",
   "metadata": {},
   "source": [
    "#### Define\n",
    "\n",
    "- Create new columns from the lumped up cells to new columns "
   ]
  },
  {
   "cell_type": "code",
   "execution_count": 38,
   "id": "c45e7ddb",
   "metadata": {},
   "outputs": [],
   "source": [
    "#Extract products name\n",
    "\n",
    "df[\"Product\"] = df[\"Region Popularity Critics\\' Score Avg. Price / 750ml\"].str.split(\",\", expand=True)[0]"
   ]
  },
  {
   "cell_type": "code",
   "execution_count": 40,
   "id": "78e984a4",
   "metadata": {},
   "outputs": [
    {
     "data": {
      "text/html": [
       "<div>\n",
       "<style scoped>\n",
       "    .dataframe tbody tr th:only-of-type {\n",
       "        vertical-align: middle;\n",
       "    }\n",
       "\n",
       "    .dataframe tbody tr th {\n",
       "        vertical-align: top;\n",
       "    }\n",
       "\n",
       "    .dataframe thead th {\n",
       "        text-align: right;\n",
       "    }\n",
       "</style>\n",
       "<table border=\"1\" class=\"dataframe\">\n",
       "  <thead>\n",
       "    <tr style=\"text-align: right;\">\n",
       "      <th></th>\n",
       "      <th>Product</th>\n",
       "      <th>Region Popularity Critics' Score Avg. Price / 750ml</th>\n",
       "    </tr>\n",
       "  </thead>\n",
       "  <tbody>\n",
       "    <tr>\n",
       "      <th>0</th>\n",
       "      <td>Herdade Paco do Conde Reserva Branco</td>\n",
       "      <td>Herdade Paco do Conde Reserva Branco, Vinho Re...</td>\n",
       "    </tr>\n",
       "    <tr>\n",
       "      <th>1</th>\n",
       "      <td>Paulo Laureano Branco</td>\n",
       "      <td>Paulo Laureano Branco, Vinho Regional Alenteja...</td>\n",
       "    </tr>\n",
       "    <tr>\n",
       "      <th>2</th>\n",
       "      <td>Paulo Laureano Vinhas Velhas Private Selection...</td>\n",
       "      <td>Paulo Laureano Vinhas Velhas Private Selection...</td>\n",
       "    </tr>\n",
       "    <tr>\n",
       "      <th>3</th>\n",
       "      <td>Ribafreixo Pato Frio Antao Vaz</td>\n",
       "      <td>Ribafreixo Pato Frio Antao Vaz, Alentejo, Port...</td>\n",
       "    </tr>\n",
       "    <tr>\n",
       "      <th>4</th>\n",
       "      <td>Adega Cooperativa de Vidigueira 'Vila dos Gama...</td>\n",
       "      <td>Adega Cooperativa de Vidigueira 'Vila dos Gama...</td>\n",
       "    </tr>\n",
       "  </tbody>\n",
       "</table>\n",
       "</div>"
      ],
      "text/plain": [
       "                                             Product  \\\n",
       "0               Herdade Paco do Conde Reserva Branco   \n",
       "1                              Paulo Laureano Branco   \n",
       "2  Paulo Laureano Vinhas Velhas Private Selection...   \n",
       "3                     Ribafreixo Pato Frio Antao Vaz   \n",
       "4  Adega Cooperativa de Vidigueira 'Vila dos Gama...   \n",
       "\n",
       "  Region Popularity Critics' Score Avg. Price / 750ml  \n",
       "0  Herdade Paco do Conde Reserva Branco, Vinho Re...   \n",
       "1  Paulo Laureano Branco, Vinho Regional Alenteja...   \n",
       "2  Paulo Laureano Vinhas Velhas Private Selection...   \n",
       "3  Ribafreixo Pato Frio Antao Vaz, Alentejo, Port...   \n",
       "4  Adega Cooperativa de Vidigueira 'Vila dos Gama...   "
      ]
     },
     "execution_count": 40,
     "metadata": {},
     "output_type": "execute_result"
    }
   ],
   "source": [
    "#Test product name\n",
    "df.head()"
   ]
  },
  {
   "cell_type": "code",
   "execution_count": 59,
   "id": "2a3d4f1e",
   "metadata": {},
   "outputs": [],
   "source": [
    "#Extract popularity \n",
    "\n",
    "df[\"Popularity\"] = df[\"Region Popularity Critics\\' Score Avg. Price / 750ml\"].str.extract(r\"(\\d+(,\\d+)*(st|nd|rd|th)?)\").iloc[:, 0]"
   ]
  },
  {
   "cell_type": "code",
   "execution_count": 82,
   "id": "f01b8608",
   "metadata": {},
   "outputs": [],
   "source": [
    "#Extract Price\n",
    "#.iloc[:, 0]\n",
    "\n",
    "df[\"Price\"] = df[\"Region Popularity Critics\\' Score Avg. Price / 750ml\"].str.extract(r\"(\\d+(,\\d+)*.[0-2]?₦)\").iloc[:, 0]"
   ]
  },
  {
   "cell_type": "code",
   "execution_count": 86,
   "id": "8ed89e82",
   "metadata": {},
   "outputs": [],
   "source": [
    "df.drop(columns = \"Region Popularity Critics' Score Avg. Price / 750ml\", inplace = True)"
   ]
  },
  {
   "cell_type": "code",
   "execution_count": 87,
   "id": "f7e5128e",
   "metadata": {},
   "outputs": [
    {
     "data": {
      "text/html": [
       "<div>\n",
       "<style scoped>\n",
       "    .dataframe tbody tr th:only-of-type {\n",
       "        vertical-align: middle;\n",
       "    }\n",
       "\n",
       "    .dataframe tbody tr th {\n",
       "        vertical-align: top;\n",
       "    }\n",
       "\n",
       "    .dataframe thead th {\n",
       "        text-align: right;\n",
       "    }\n",
       "</style>\n",
       "<table border=\"1\" class=\"dataframe\">\n",
       "  <thead>\n",
       "    <tr style=\"text-align: right;\">\n",
       "      <th></th>\n",
       "      <th>Product</th>\n",
       "      <th>Popularity</th>\n",
       "      <th>Price</th>\n",
       "    </tr>\n",
       "  </thead>\n",
       "  <tbody>\n",
       "    <tr>\n",
       "      <th>0</th>\n",
       "      <td>Herdade Paco do Conde Reserva Branco</td>\n",
       "      <td>230,354th</td>\n",
       "      <td>4,933 ₦</td>\n",
       "    </tr>\n",
       "    <tr>\n",
       "      <th>1</th>\n",
       "      <td>Paulo Laureano Branco</td>\n",
       "      <td>230,354th</td>\n",
       "      <td>1,973 ₦</td>\n",
       "    </tr>\n",
       "    <tr>\n",
       "      <th>2</th>\n",
       "      <td>Paulo Laureano Vinhas Velhas Private Selection...</td>\n",
       "      <td>230,354th</td>\n",
       "      <td>5,426 ₦</td>\n",
       "    </tr>\n",
       "    <tr>\n",
       "      <th>3</th>\n",
       "      <td>Ribafreixo Pato Frio Antao Vaz</td>\n",
       "      <td>230,354th</td>\n",
       "      <td>2,960 ₦</td>\n",
       "    </tr>\n",
       "    <tr>\n",
       "      <th>4</th>\n",
       "      <td>Adega Cooperativa de Vidigueira 'Vila dos Gama...</td>\n",
       "      <td>263,810th</td>\n",
       "      <td>1,480 ₦</td>\n",
       "    </tr>\n",
       "  </tbody>\n",
       "</table>\n",
       "</div>"
      ],
      "text/plain": [
       "                                             Product Popularity    Price\n",
       "0               Herdade Paco do Conde Reserva Branco  230,354th  4,933 ₦\n",
       "1                              Paulo Laureano Branco  230,354th  1,973 ₦\n",
       "2  Paulo Laureano Vinhas Velhas Private Selection...  230,354th  5,426 ₦\n",
       "3                     Ribafreixo Pato Frio Antao Vaz  230,354th  2,960 ₦\n",
       "4  Adega Cooperativa de Vidigueira 'Vila dos Gama...  263,810th  1,480 ₦"
      ]
     },
     "execution_count": 87,
     "metadata": {},
     "output_type": "execute_result"
    }
   ],
   "source": [
    "#Test\n",
    "\n",
    "df.head()"
   ]
  },
  {
   "cell_type": "code",
   "execution_count": 90,
   "id": "695cbd04",
   "metadata": {},
   "outputs": [],
   "source": [
    "#Save file as CSV\n",
    "\n",
    "df.to_csv(\"wine.csv\", index = False)"
   ]
  },
  {
   "cell_type": "code",
   "execution_count": 68,
   "id": "7b324ba0",
   "metadata": {},
   "outputs": [],
   "source": [
    "import pandas as pd\n",
    "from bs4 import BeautifulSoup\n",
    "import glob\n",
    "import numpy as np"
   ]
  },
  {
   "cell_type": "code",
   "execution_count": 2,
   "id": "482ba867",
   "metadata": {},
   "outputs": [],
   "source": [
    "# with open(\"html_folders\\\\No 1.html\", encoding = \"UTF-8\") as f:\n",
    "#     file = f.read()"
   ]
  },
  {
   "cell_type": "code",
   "execution_count": 69,
   "id": "71eef9a1",
   "metadata": {},
   "outputs": [],
   "source": [
    "###\n",
    "with open(\"html_folders\\\\No 10.html\", encoding = \"UTF-8\") as f:\n",
    "    file = f.read()"
   ]
  },
  {
   "cell_type": "code",
   "execution_count": 70,
   "id": "d2793147",
   "metadata": {},
   "outputs": [],
   "source": [
    "soup = BeautifulSoup(file)"
   ]
  },
  {
   "cell_type": "code",
   "execution_count": 19,
   "id": "4778dea0",
   "metadata": {},
   "outputs": [
    {
     "data": {
      "text/plain": [
       "<h1 data-name-id=\"63980\">\n",
       "2018 Domaine A.F. Gros Bourgogne Pinot Noir            </h1>"
      ]
     },
     "execution_count": 19,
     "metadata": {},
     "output_type": "execute_result"
    }
   ],
   "source": [
    "soup.find(\"h1\")"
   ]
  },
  {
   "cell_type": "code",
   "execution_count": 20,
   "id": "03dcf42f",
   "metadata": {},
   "outputs": [
    {
     "data": {
      "text/plain": [
       "'2018 Domaine A.F. Gros Bourgogne Pinot Noir'"
      ]
     },
     "execution_count": 20,
     "metadata": {},
     "output_type": "execute_result"
    }
   ],
   "source": [
    "header = soup.find(\"h1\").contents[0].strip(\" \").strip(\"\\n\")\n",
    "header"
   ]
  },
  {
   "cell_type": "code",
   "execution_count": 21,
   "id": "855da9ab",
   "metadata": {},
   "outputs": [],
   "source": [
    "list_of_shop_names = soup.find_all(\"div\", \"col1\")"
   ]
  },
  {
   "cell_type": "code",
   "execution_count": 23,
   "id": "f5b4a981",
   "metadata": {},
   "outputs": [],
   "source": [
    "single_shop_test = list_of_shop_names[2]\n",
    "#len(single_shop_test)"
   ]
  },
  {
   "cell_type": "code",
   "execution_count": 24,
   "id": "e1411b17",
   "metadata": {},
   "outputs": [
    {
     "data": {
      "text/plain": [
       "'Ponti Wine Cellars'"
      ]
     },
     "execution_count": 24,
     "metadata": {},
     "output_type": "execute_result"
    }
   ],
   "source": [
    "single_shop_test.find(\"a\").contents[0]"
   ]
  },
  {
   "cell_type": "code",
   "execution_count": 25,
   "id": "c7431ff7",
   "metadata": {},
   "outputs": [
    {
     "data": {
      "text/plain": [
       "'Ponti Wine Cellars'"
      ]
     },
     "execution_count": 25,
     "metadata": {},
     "output_type": "execute_result"
    }
   ],
   "source": [
    "name = single_shop_test.find(\"a\").contents[0]\n",
    "name"
   ]
  },
  {
   "cell_type": "code",
   "execution_count": 26,
   "id": "ccda8dd5",
   "metadata": {},
   "outputs": [
    {
     "data": {
      "text/plain": [
       "'Singapore                                                                                                        '"
      ]
     },
     "execution_count": 26,
     "metadata": {},
     "output_type": "execute_result"
    }
   ],
   "source": [
    "#Extracting loaction of shop\n",
    "shop_location = single_shop_test.find(\"div\").contents[3].contents[0].strip(\"\\n\")\n",
    "shop_location"
   ]
  },
  {
   "cell_type": "code",
   "execution_count": 71,
   "id": "351a831d",
   "metadata": {},
   "outputs": [],
   "source": [
    "#Extracting vintage and bottle\n",
    "list_of_vintage_bottle = soup.find_all(\"div\", \"col3\")"
   ]
  },
  {
   "cell_type": "code",
   "execution_count": 85,
   "id": "a902e0d5",
   "metadata": {},
   "outputs": [
    {
     "data": {
      "text/plain": [
       "'A. F. Gros Bourgogne Pinot Noir 2018, Burgundy,Cote de Nuits'"
      ]
     },
     "execution_count": 85,
     "metadata": {},
     "output_type": "execute_result"
    }
   ],
   "source": [
    "#Obtainin wine name\n",
    "list_of_vintage_bottle[2].find(\"div\", \"mb-2 small d-full-card-only\").contents[0].strip(\" \").strip(\"\\n\")"
   ]
  },
  {
   "cell_type": "code",
   "execution_count": 28,
   "id": "399b5df3",
   "metadata": {},
   "outputs": [
    {
     "data": {
      "text/plain": [
       "3"
      ]
     },
     "execution_count": 28,
     "metadata": {},
     "output_type": "execute_result"
    }
   ],
   "source": [
    "len(list_of_vintage_bottle)"
   ]
  },
  {
   "cell_type": "code",
   "execution_count": 30,
   "id": "c82c8d3c",
   "metadata": {},
   "outputs": [
    {
     "data": {
      "text/plain": [
       "'2018'"
      ]
     },
     "execution_count": 30,
     "metadata": {},
     "output_type": "execute_result"
    }
   ],
   "source": [
    "test_vintage = list_of_vintage_bottle[2].find(\"span\").contents[0]\n",
    "test_vintage"
   ]
  },
  {
   "cell_type": "code",
   "execution_count": 32,
   "id": "fbdd04c9",
   "metadata": {},
   "outputs": [
    {
     "data": {
      "text/plain": [
       "'Bottle (750ml)'"
      ]
     },
     "execution_count": 32,
     "metadata": {},
     "output_type": "execute_result"
    }
   ],
   "source": [
    "#Extract bottle\n",
    "#border badge-lg badge badge-pill\n",
    "test_bottle = list_of_vintage_bottle[0].find_all(\"span\")[1].contents[0]\n",
    "test_bottle"
   ]
  },
  {
   "cell_type": "code",
   "execution_count": 33,
   "id": "09f267f3",
   "metadata": {},
   "outputs": [
    {
     "data": {
      "text/plain": [
       "'11,800'"
      ]
     },
     "execution_count": 33,
     "metadata": {},
     "output_type": "execute_result"
    }
   ],
   "source": [
    "#Finding price\n",
    "price_list = soup.find_all(\"div\", \"price__detail price__detail_main small\")\n",
    "price_list[0].find(\"span\").contents[0]"
   ]
  },
  {
   "cell_type": "code",
   "execution_count": 34,
   "id": "5d7b02c5",
   "metadata": {},
   "outputs": [
    {
     "data": {
      "text/plain": [
       "3"
      ]
     },
     "execution_count": 34,
     "metadata": {},
     "output_type": "execute_result"
    }
   ],
   "source": [
    "len(price_list)"
   ]
  },
  {
   "cell_type": "code",
   "execution_count": 35,
   "id": "3b1b36cf",
   "metadata": {},
   "outputs": [
    {
     "data": {
      "text/plain": [
       "<span class=\"price__integer-part align-middle\">17,858</span>"
      ]
     },
     "execution_count": 35,
     "metadata": {},
     "output_type": "execute_result"
    }
   ],
   "source": [
    "test_price = price_list[1].contents[0]\n",
    "test_price"
   ]
  },
  {
   "cell_type": "code",
   "execution_count": 76,
   "id": "d1d1e621",
   "metadata": {},
   "outputs": [
    {
     "data": {
      "text/plain": [
       "['html_folders\\\\No 1.html',\n",
       " 'html_folders\\\\No 10.html',\n",
       " 'html_folders\\\\No 11.html',\n",
       " 'html_folders\\\\No 12.html',\n",
       " 'html_folders\\\\No 2.html']"
      ]
     },
     "execution_count": 76,
     "metadata": {},
     "output_type": "execute_result"
    }
   ],
   "source": [
    "glob_list = glob.glob(\"html_folders/*htm*\")\n",
    "glob_list[:5]"
   ]
  },
  {
   "cell_type": "code",
   "execution_count": 38,
   "id": "5a776ce5",
   "metadata": {},
   "outputs": [],
   "source": [
    "#Testing out the links\n",
    "\n",
    "list_links = soup.find_all(\"a\", \"col2 pl-0 pl-lg-3\")"
   ]
  },
  {
   "cell_type": "code",
   "execution_count": 40,
   "id": "d45698c7",
   "metadata": {},
   "outputs": [
    {
     "data": {
      "text/plain": [
       "3"
      ]
     },
     "execution_count": 40,
     "metadata": {},
     "output_type": "execute_result"
    }
   ],
   "source": [
    "len(list_links)"
   ]
  },
  {
   "cell_type": "code",
   "execution_count": 74,
   "id": "3f939da4",
   "metadata": {},
   "outputs": [
    {
     "data": {
      "text/plain": [
       "'https://www.pontiwinecellars.com.sg/red-wine/889-a-f-gros-bourgogne-pinot-noir-2018'"
      ]
     },
     "execution_count": 74,
     "metadata": {},
     "output_type": "execute_result"
    }
   ],
   "source": [
    "link = str(list_links[2]).split(\" \")[15][24:-2]\n",
    "link"
   ]
  },
  {
   "cell_type": "code",
   "execution_count": 98,
   "id": "29805126",
   "metadata": {},
   "outputs": [
    {
     "data": {
      "text/plain": [
       "'Domaine A.& P. De Villaine Bouzeron Aligote Blanc 2018'"
      ]
     },
     "execution_count": 98,
     "metadata": {},
     "output_type": "execute_result"
    }
   ],
   "source": [
    "#Wine name\n",
    "\n",
    "str(soup.find_all(\"div\", \"mb-2 small d-full-card-only\")[0].contents[0].strip(\"\\n\").strip(\" \"))[:-8]"
   ]
  },
  {
   "cell_type": "code",
   "execution_count": 104,
   "id": "4fd03896",
   "metadata": {},
   "outputs": [
    {
     "data": {
      "text/plain": [
       "'Domaine A.& P. De Villaine Bouzeron Aligote Blanc 2018'"
      ]
     },
     "execution_count": 104,
     "metadata": {},
     "output_type": "execute_result"
    }
   ],
   "source": [
    "str(soup.find(\"div\", \"mb-2 small d-full-card-only\").contents[0]).strip(\"\\n\").strip(\" \")[:-8]"
   ]
  },
  {
   "cell_type": "code",
   "execution_count": 87,
   "id": "4dd7ff3b",
   "metadata": {},
   "outputs": [
    {
     "data": {
      "text/plain": [
       "['html_folders\\\\No 1.html',\n",
       " 'html_folders\\\\No 10.html',\n",
       " 'html_folders\\\\No 11.html',\n",
       " 'html_folders\\\\No 12.html',\n",
       " 'html_folders\\\\No 2.html']"
      ]
     },
     "execution_count": 87,
     "metadata": {},
     "output_type": "execute_result"
    }
   ],
   "source": [
    "glob_list = glob.glob(\"html_folders/*htm*\")\n",
    "glob_list[:5]"
   ]
  },
  {
   "cell_type": "code",
   "execution_count": 89,
   "id": "08db5503",
   "metadata": {},
   "outputs": [],
   "source": [
    "df_dict = []\n",
    "error_dict = {}\n",
    "for file in glob_list:  #For loop to list through all the files\n",
    "    with open(file, encoding = \"UTF-8\") as f:  #Context manager to open each file as html/txt document\n",
    "        html_doc = f.read()\n",
    "        pass\n",
    "    #Pass each document into a beautiful😊😍 soup\n",
    "    soup = BeautifulSoup(html_doc)\n",
    "    \n",
    "    #Obtain Wine name\n",
    "    \n",
    "#     try:\n",
    "#         wine_name = str(soup.find(\"div\", \"mb-2 small d-full-card-only\").contents[0]).strip(\"\\n\").strip(\" \")[:-8]\n",
    "#     except:\n",
    "#         wine_name = np.nan\n",
    "    \n",
    "#     try:\n",
    "#         wine_name = soup.find(\"h1\").contents[0].strip(\" \").strip(\"\\n\")\n",
    "#     except:\n",
    "#         wine_name = np.nan\n",
    "\n",
    "    #Obtain shop and shop location\n",
    "    shop_name = []\n",
    "    shop_location = []\n",
    "    list_shop_names = soup.find_all(\"div\", \"col1\")\n",
    "    # #Update wine name to be a list of same length with others.\n",
    "    for shop in list_shop_names:\n",
    "        try:\n",
    "            shop_name.append(shop.find(\"a\").contents[0])\n",
    "        except:\n",
    "            shop_name.append(np.nan)\n",
    "        try:\n",
    "            shop_location.append(shop.find(\"div\").contents[3].contents[0].strip(\"\\n\"))\n",
    "        except:\n",
    "            shop_location.append(np.nan)\n",
    "        pass\n",
    "\n",
    "        #Obtain vintage and bottle size\n",
    "    vintage = []\n",
    "    bottle_size = []\n",
    "    wine_name = []   #New changes\n",
    "    list_vintages_bottles = soup.find_all(\"div\", \"col3\")\n",
    "    for vint_bottle in list_vintages_bottles:\n",
    "        try:\n",
    "            vintage.append(vint_bottle.find(\"span\").contents[0])\n",
    "        except:\n",
    "            vintage.append(np.nan)\n",
    "            pass\n",
    "        try:\n",
    "            bottle_size.append(vint_bottle.find_all(\"span\")[1].contents[0])\n",
    "        except:\n",
    "            bottle_size.append(np.nan)\n",
    "            pass\n",
    "        #Wine name ---New changes\n",
    "        try:\n",
    "            wine_name.append(vint_bottle.find(\"div\", \"mb-2 small d-full-card-only\").contents[0].strip(\" \").strip(\"\\n\"))\n",
    "            #try block, new changes\n",
    "        except:\n",
    "            wine_name.append(np.nan)\n",
    "    \n",
    "    #Obtain the prices\n",
    "    price_list = soup.find_all(\"div\", \"price__detail price__detail_main small\")\n",
    "    prices = []\n",
    "    for price in price_list:\n",
    "        try:\n",
    "            prices.append(price.find(\"span\").contents[0])\n",
    "        except:\n",
    "            prices.append(np.nan)\n",
    "        pass\n",
    "    ################\n",
    "    #obtain shops link\n",
    "    list_of_link = soup.find_all(\"a\", \"col2 pl-0 pl-lg-3\")\n",
    "    shop_link = []\n",
    "    for link in list_of_link:\n",
    "        try:\n",
    "            shop_link.append(str(link).split(\" \")[15][24:-2])\n",
    "            pass\n",
    "        except:\n",
    "            shop_link.append(np.nan)\n",
    "            pass\n",
    "    ###############\n",
    "        \n",
    "    #Update wine name into a list to be able to be included as appropriate\n",
    "    ###commented out --- #wine_name = [wine_name] * len(list_shop_names)  #New changes\n",
    "\n",
    "    panda_dict = {\n",
    "        \"wine_name\":wine_name,\n",
    "        \"shop_name\": shop_name,\n",
    "        \"shop_location\": shop_location,\n",
    "        \"vintage\": vintage,\n",
    "        \"bottle_size\": bottle_size,\n",
    "        \"price\": prices,\n",
    "        \"shop_link\": shop_link\n",
    "    }\n",
    "    if len(list_shop_names) == 1:\n",
    "        df = pd.DataFrame(panda_dict, index=[0])\n",
    "    else:\n",
    "        df = pd.DataFrame(panda_dict)\n",
    "        pass\n",
    "    df_dict.append(df)"
   ]
  },
  {
   "cell_type": "code",
   "execution_count": 90,
   "id": "931a46d9",
   "metadata": {},
   "outputs": [
    {
     "data": {
      "text/html": [
       "<div>\n",
       "<style scoped>\n",
       "    .dataframe tbody tr th:only-of-type {\n",
       "        vertical-align: middle;\n",
       "    }\n",
       "\n",
       "    .dataframe tbody tr th {\n",
       "        vertical-align: top;\n",
       "    }\n",
       "\n",
       "    .dataframe thead th {\n",
       "        text-align: right;\n",
       "    }\n",
       "</style>\n",
       "<table border=\"1\" class=\"dataframe\">\n",
       "  <thead>\n",
       "    <tr style=\"text-align: right;\">\n",
       "      <th></th>\n",
       "      <th>wine_name</th>\n",
       "      <th>shop_name</th>\n",
       "      <th>shop_location</th>\n",
       "      <th>vintage</th>\n",
       "      <th>bottle_size</th>\n",
       "      <th>price</th>\n",
       "      <th>shop_link</th>\n",
       "    </tr>\n",
       "  </thead>\n",
       "  <tbody>\n",
       "    <tr>\n",
       "      <th>0</th>\n",
       "      <td>De Villaine - Bourgogne \"La Digoine\" 1976 ( Vi...</td>\n",
       "      <td>Prestige Cellar - France</td>\n",
       "      <td>France:                                       ...</td>\n",
       "      <td>1976</td>\n",
       "      <td>Bottle (750ml)</td>\n",
       "      <td>81,790</td>\n",
       "      <td>https://www.prestige-cellar.fr/fr/4938-de-vill...</td>\n",
       "    </tr>\n",
       "    <tr>\n",
       "      <th>0</th>\n",
       "      <td>AF Gros - Bourgogne Pinot Noir 2018</td>\n",
       "      <td>Prestige Cellar - France</td>\n",
       "      <td>France:                                       ...</td>\n",
       "      <td>2018</td>\n",
       "      <td>Bottle (750ml)</td>\n",
       "      <td>11,800</td>\n",
       "      <td>https://www.prestige-cellar.fr/fr/3578-af-gros...</td>\n",
       "    </tr>\n",
       "    <tr>\n",
       "      <th>1</th>\n",
       "      <td>18 BOURGOGNE PINOT NOIR, DOMAINE A-F GROS</td>\n",
       "      <td>Village Corner</td>\n",
       "      <td>USA:                                          ...</td>\n",
       "      <td>2018</td>\n",
       "      <td>Bottle (750ml)</td>\n",
       "      <td>17,858</td>\n",
       "      <td>https://villagecorner.com</td>\n",
       "    </tr>\n",
       "    <tr>\n",
       "      <th>2</th>\n",
       "      <td>A. F. Gros Bourgogne Pinot Noir 2018, Burgundy...</td>\n",
       "      <td>Ponti Wine Cellars</td>\n",
       "      <td>Singapore                                     ...</td>\n",
       "      <td>2018</td>\n",
       "      <td>Bottle (750ml)</td>\n",
       "      <td>37,160</td>\n",
       "      <td>https://www.pontiwinecellars.com.sg/red-wine/8...</td>\n",
       "    </tr>\n",
       "    <tr>\n",
       "      <th>0</th>\n",
       "      <td>Domaine A.F Gros Echezeaux Grand Cru 2010, Pin...</td>\n",
       "      <td>Best Buy Liquors</td>\n",
       "      <td>USA:                                          ...</td>\n",
       "      <td>2010</td>\n",
       "      <td>Bottle (750ml)</td>\n",
       "      <td>207,699</td>\n",
       "      <td>https://bestbuyliquors.com/domaine-af-gros-ech...</td>\n",
       "    </tr>\n",
       "  </tbody>\n",
       "</table>\n",
       "</div>"
      ],
      "text/plain": [
       "                                           wine_name  \\\n",
       "0  De Villaine - Bourgogne \"La Digoine\" 1976 ( Vi...   \n",
       "0                AF Gros - Bourgogne Pinot Noir 2018   \n",
       "1          18 BOURGOGNE PINOT NOIR, DOMAINE A-F GROS   \n",
       "2  A. F. Gros Bourgogne Pinot Noir 2018, Burgundy...   \n",
       "0  Domaine A.F Gros Echezeaux Grand Cru 2010, Pin...   \n",
       "\n",
       "                  shop_name  \\\n",
       "0  Prestige Cellar - France   \n",
       "0  Prestige Cellar - France   \n",
       "1            Village Corner   \n",
       "2        Ponti Wine Cellars   \n",
       "0          Best Buy Liquors   \n",
       "\n",
       "                                       shop_location vintage     bottle_size  \\\n",
       "0  France:                                       ...    1976  Bottle (750ml)   \n",
       "0  France:                                       ...    2018  Bottle (750ml)   \n",
       "1  USA:                                          ...    2018  Bottle (750ml)   \n",
       "2  Singapore                                     ...    2018  Bottle (750ml)   \n",
       "0  USA:                                          ...    2010  Bottle (750ml)   \n",
       "\n",
       "     price                                          shop_link  \n",
       "0   81,790  https://www.prestige-cellar.fr/fr/4938-de-vill...  \n",
       "0   11,800  https://www.prestige-cellar.fr/fr/3578-af-gros...  \n",
       "1   17,858                          https://villagecorner.com  \n",
       "2   37,160  https://www.pontiwinecellars.com.sg/red-wine/8...  \n",
       "0  207,699  https://bestbuyliquors.com/domaine-af-gros-ech...  "
      ]
     },
     "execution_count": 90,
     "metadata": {},
     "output_type": "execute_result"
    }
   ],
   "source": [
    "yyy = pd.concat(df_dict)\n",
    "yyy.head()"
   ]
  },
  {
   "cell_type": "code",
   "execution_count": 98,
   "id": "b66d2707",
   "metadata": {},
   "outputs": [],
   "source": [
    "yyy.rename(columns = {\"wine_name\": \"Product Name\"}, inplace = True)"
   ]
  },
  {
   "cell_type": "code",
   "execution_count": 80,
   "id": "9200daee",
   "metadata": {},
   "outputs": [
    {
     "data": {
      "text/plain": [
       "7     https://www.hitimewine.net/de-villaine-2018-ru...\n",
       "1     http://www.fourwallswine.com/index.php?action=...\n",
       "7     http://www.lacantinapinta.it/dettaglio.php?ct=...\n",
       "24    https://www.varmax.com/wines/Domaine-de-Villai...\n",
       "4     https://www.brwine.com/wines/Villaine-A.-Et-P....\n",
       "27    http://www.finestwine.com/en/others/96334-agra...\n",
       "44    https://www.sothebyswine.com/hk/shop/agrapart-...\n",
       "2     https://www.pontiwinecellars.com.sg/red-wine/8...\n",
       "0     https://www.y18.hk/Domaine-A.P.-De-Villaine-Bo...\n",
       "1     http://www.fourwallswine.com/index.php?action=...\n",
       "Name: shop_link, dtype: object"
      ]
     },
     "execution_count": 80,
     "metadata": {},
     "output_type": "execute_result"
    }
   ],
   "source": [
    "yyy[\"shop_link\"].sample(10)"
   ]
  },
  {
   "cell_type": "code",
   "execution_count": 132,
   "id": "c60bce1d",
   "metadata": {},
   "outputs": [],
   "source": [
    "#Convert price to integer\n",
    "\n",
    "#First define function to remove comma in the column\n",
    "yyy.price = yyy.price.str.replace(\",\", '')"
   ]
  },
  {
   "cell_type": "code",
   "execution_count": 133,
   "id": "655152c5",
   "metadata": {},
   "outputs": [],
   "source": [
    "#Convert price to integer\n",
    "yyy.price = yyy.price.astype(int)"
   ]
  },
  {
   "cell_type": "code",
   "execution_count": 118,
   "id": "69f3c57b",
   "metadata": {},
   "outputs": [
    {
     "name": "stdout",
     "output_type": "stream",
     "text": [
      "<class 'pandas.core.frame.DataFrame'>\n",
      "Int64Index: 128 entries, 0 to 7\n",
      "Data columns (total 7 columns):\n",
      " #   Column         Non-Null Count  Dtype \n",
      "---  ------         --------------  ----- \n",
      " 0   wine_name      123 non-null    object\n",
      " 1   shop_name      128 non-null    object\n",
      " 2   shop_location  128 non-null    object\n",
      " 3   vintage        77 non-null     object\n",
      " 4   bottle_size    128 non-null    object\n",
      " 5   price          128 non-null    int32 \n",
      " 6   shop_link      128 non-null    object\n",
      "dtypes: int32(1), object(6)\n",
      "memory usage: 7.5+ KB\n"
     ]
    }
   ],
   "source": [
    "yyy.info()"
   ]
  },
  {
   "cell_type": "code",
   "execution_count": 105,
   "id": "54325baa",
   "metadata": {},
   "outputs": [
    {
     "data": {
      "text/html": [
       "<div>\n",
       "<style scoped>\n",
       "    .dataframe tbody tr th:only-of-type {\n",
       "        vertical-align: middle;\n",
       "    }\n",
       "\n",
       "    .dataframe tbody tr th {\n",
       "        vertical-align: top;\n",
       "    }\n",
       "\n",
       "    .dataframe thead th {\n",
       "        text-align: right;\n",
       "    }\n",
       "</style>\n",
       "<table border=\"1\" class=\"dataframe\">\n",
       "  <thead>\n",
       "    <tr style=\"text-align: right;\">\n",
       "      <th></th>\n",
       "      <th>Product Name</th>\n",
       "      <th>shop_name</th>\n",
       "      <th>shop_location</th>\n",
       "      <th>vintage</th>\n",
       "      <th>bottle_size</th>\n",
       "      <th>price</th>\n",
       "      <th>shop_link</th>\n",
       "    </tr>\n",
       "  </thead>\n",
       "  <tbody>\n",
       "    <tr>\n",
       "      <th>1</th>\n",
       "      <td>18 BOURGOGNE PINOT NOIR, DOMAINE A-F GROS</td>\n",
       "      <td>Village Corner</td>\n",
       "      <td>USA:                                          ...</td>\n",
       "      <td>2018</td>\n",
       "      <td>Bottle (750ml)</td>\n",
       "      <td>17,858</td>\n",
       "      <td>https://villagecorner.com</td>\n",
       "    </tr>\n",
       "    <tr>\n",
       "      <th>6</th>\n",
       "      <td>2010 Champagne Millesime Prestige Brut Champag...</td>\n",
       "      <td>Greenwood Fine Wine</td>\n",
       "      <td>Denmark:                                      ...</td>\n",
       "      <td>2010</td>\n",
       "      <td>Bottle (750ml)</td>\n",
       "      <td>21,457</td>\n",
       "      <td>https://www.greenwoodfinewine.dk/vine/a-berger...</td>\n",
       "    </tr>\n",
       "    <tr>\n",
       "      <th>2</th>\n",
       "      <td>2018 A. et P. de Villaine Aligote Bouzeron</td>\n",
       "      <td>Sage Society</td>\n",
       "      <td>USA:                                          ...</td>\n",
       "      <td>2018</td>\n",
       "      <td>Bottle (750ml)</td>\n",
       "      <td>17,444</td>\n",
       "      <td>https://sagesociety.com/products/2018-a-et-p-d...</td>\n",
       "    </tr>\n",
       "    <tr>\n",
       "      <th>2</th>\n",
       "      <td>2018 A. et P. de Villaine Aligote Bouzeron</td>\n",
       "      <td>Sage Society</td>\n",
       "      <td>USA:                                          ...</td>\n",
       "      <td>2018</td>\n",
       "      <td>Bottle (750ml)</td>\n",
       "      <td>17,444</td>\n",
       "      <td>https://sagesociety.com/products/2018-a-et-p-d...</td>\n",
       "    </tr>\n",
       "    <tr>\n",
       "      <th>5</th>\n",
       "      <td>2018 Domaine A. &amp; P. de Villaine Bouzeron, Cot...</td>\n",
       "      <td>Leon &amp; Son Wine Grand Rapids</td>\n",
       "      <td>USA:                                          ...</td>\n",
       "      <td>2018</td>\n",
       "      <td>Bottle (750ml)</td>\n",
       "      <td>19,941</td>\n",
       "      <td>https://www.leonandsongr.com/product/2018-doma...</td>\n",
       "    </tr>\n",
       "    <tr>\n",
       "      <th>...</th>\n",
       "      <td>...</td>\n",
       "      <td>...</td>\n",
       "      <td>...</td>\n",
       "      <td>...</td>\n",
       "      <td>...</td>\n",
       "      <td>...</td>\n",
       "      <td>...</td>\n",
       "    </tr>\n",
       "    <tr>\n",
       "      <th>0</th>\n",
       "      <td>Rully 1er Cru Rabource 2018 - Domaine de Villa...</td>\n",
       "      <td>Pleasure Wine</td>\n",
       "      <td>France:                                       ...</td>\n",
       "      <td>2018</td>\n",
       "      <td>Bottle (750ml)</td>\n",
       "      <td>24,274</td>\n",
       "      <td>https://pleasurewine.com/en/rully/1443-rully-1...</td>\n",
       "    </tr>\n",
       "    <tr>\n",
       "      <th>4</th>\n",
       "      <td>Rully Rabource 1er Cru blanc, Domaine de Villaine</td>\n",
       "      <td>Kierdorf Wein</td>\n",
       "      <td>Germany:                                      ...</td>\n",
       "      <td>2018</td>\n",
       "      <td>Bottle (750ml)</td>\n",
       "      <td>27,351</td>\n",
       "      <td>https://www.kierdorfwein.de/de/rullyrabource1e...</td>\n",
       "    </tr>\n",
       "    <tr>\n",
       "      <th>4</th>\n",
       "      <td>Villaine, A. Et P. De Dom. - Bouzeron Aligote ...</td>\n",
       "      <td>Blanc et Rouge Wine and Spirits</td>\n",
       "      <td>USA:                                          ...</td>\n",
       "      <td>2018</td>\n",
       "      <td>Bottle (750ml)</td>\n",
       "      <td>18,275</td>\n",
       "      <td>https://www.brwine.com/wines/Villaine-A.-Et-P....</td>\n",
       "    </tr>\n",
       "    <tr>\n",
       "      <th>4</th>\n",
       "      <td>Villaine, A. Et P. De Dom. - Bouzeron Aligote ...</td>\n",
       "      <td>Blanc et Rouge Wine and Spirits</td>\n",
       "      <td>USA:                                          ...</td>\n",
       "      <td>2018</td>\n",
       "      <td>Bottle (750ml)</td>\n",
       "      <td>18,275</td>\n",
       "      <td>https://www.brwine.com/wines/Villaine-A.-Et-P....</td>\n",
       "    </tr>\n",
       "    <tr>\n",
       "      <th>13</th>\n",
       "      <td>[Pre-Order] Domaine Aubert et Pamela Villaine,...</td>\n",
       "      <td>Two More Glasses</td>\n",
       "      <td>Hong Kong                                     ...</td>\n",
       "      <td>2018</td>\n",
       "      <td>Case of 6 Btls</td>\n",
       "      <td>200,030</td>\n",
       "      <td>https://www.twomoreglasses.com/products/pre-or...</td>\n",
       "    </tr>\n",
       "  </tbody>\n",
       "</table>\n",
       "<p>129 rows × 7 columns</p>\n",
       "</div>"
      ],
      "text/plain": [
       "                                         Product Name  \\\n",
       "1           18 BOURGOGNE PINOT NOIR, DOMAINE A-F GROS   \n",
       "6   2010 Champagne Millesime Prestige Brut Champag...   \n",
       "2          2018 A. et P. de Villaine Aligote Bouzeron   \n",
       "2          2018 A. et P. de Villaine Aligote Bouzeron   \n",
       "5   2018 Domaine A. & P. de Villaine Bouzeron, Cot...   \n",
       "..                                                ...   \n",
       "0   Rully 1er Cru Rabource 2018 - Domaine de Villa...   \n",
       "4   Rully Rabource 1er Cru blanc, Domaine de Villaine   \n",
       "4   Villaine, A. Et P. De Dom. - Bouzeron Aligote ...   \n",
       "4   Villaine, A. Et P. De Dom. - Bouzeron Aligote ...   \n",
       "13  [Pre-Order] Domaine Aubert et Pamela Villaine,...   \n",
       "\n",
       "                          shop_name  \\\n",
       "1                    Village Corner   \n",
       "6               Greenwood Fine Wine   \n",
       "2                      Sage Society   \n",
       "2                      Sage Society   \n",
       "5      Leon & Son Wine Grand Rapids   \n",
       "..                              ...   \n",
       "0                     Pleasure Wine   \n",
       "4                     Kierdorf Wein   \n",
       "4   Blanc et Rouge Wine and Spirits   \n",
       "4   Blanc et Rouge Wine and Spirits   \n",
       "13                 Two More Glasses   \n",
       "\n",
       "                                        shop_location vintage     bottle_size  \\\n",
       "1   USA:                                          ...    2018  Bottle (750ml)   \n",
       "6   Denmark:                                      ...    2010  Bottle (750ml)   \n",
       "2   USA:                                          ...    2018  Bottle (750ml)   \n",
       "2   USA:                                          ...    2018  Bottle (750ml)   \n",
       "5   USA:                                          ...    2018  Bottle (750ml)   \n",
       "..                                                ...     ...             ...   \n",
       "0   France:                                       ...    2018  Bottle (750ml)   \n",
       "4   Germany:                                      ...    2018  Bottle (750ml)   \n",
       "4   USA:                                          ...    2018  Bottle (750ml)   \n",
       "4   USA:                                          ...    2018  Bottle (750ml)   \n",
       "13  Hong Kong                                     ...    2018  Case of 6 Btls   \n",
       "\n",
       "      price                                          shop_link  \n",
       "1    17,858                          https://villagecorner.com  \n",
       "6    21,457  https://www.greenwoodfinewine.dk/vine/a-berger...  \n",
       "2    17,444  https://sagesociety.com/products/2018-a-et-p-d...  \n",
       "2    17,444  https://sagesociety.com/products/2018-a-et-p-d...  \n",
       "5    19,941  https://www.leonandsongr.com/product/2018-doma...  \n",
       "..      ...                                                ...  \n",
       "0    24,274  https://pleasurewine.com/en/rully/1443-rully-1...  \n",
       "4    27,351  https://www.kierdorfwein.de/de/rullyrabource1e...  \n",
       "4    18,275  https://www.brwine.com/wines/Villaine-A.-Et-P....  \n",
       "4    18,275  https://www.brwine.com/wines/Villaine-A.-Et-P....  \n",
       "13  200,030  https://www.twomoreglasses.com/products/pre-or...  \n",
       "\n",
       "[129 rows x 7 columns]"
      ]
     },
     "execution_count": 105,
     "metadata": {},
     "output_type": "execute_result"
    }
   ],
   "source": [
    "yyy = yyy.sort_values(by=[\"Product Name\", \"price\"], ascending=True)\n",
    "yyy"
   ]
  },
  {
   "cell_type": "code",
   "execution_count": 143,
   "id": "2b69345d",
   "metadata": {},
   "outputs": [
    {
     "data": {
      "text/plain": [
       "array(['Bottle (750ml)', '700ml', 'Case of 6 Btls', 'Case of 12 Btls',\n",
       "       'Report this', 'Magnum (1.5L)'], dtype=object)"
      ]
     },
     "execution_count": 143,
     "metadata": {},
     "output_type": "execute_result"
    }
   ],
   "source": [
    "yyy.bottle_size.unique()"
   ]
  },
  {
   "cell_type": "code",
   "execution_count": null,
   "id": "98505156",
   "metadata": {},
   "outputs": [],
   "source": [
    "#Price correction function\n",
    "def price_corr(row):\n",
    "    if \"1.5L\" in row[\"bottle_size\"]:\n",
    "        row[\"price_corr\"] = row[\"price\"]/2\n",
    "        return row\n",
    "    else:\n",
    "        row[\"price_corr\"] = row[\"price\"]\n",
    "        return row"
   ]
  },
  {
   "cell_type": "code",
   "execution_count": 144,
   "id": "72341d37",
   "metadata": {},
   "outputs": [],
   "source": [
    "yyy = yyy.apply(price_corr, axis = 1)"
   ]
  },
  {
   "cell_type": "code",
   "execution_count": 148,
   "id": "96149107",
   "metadata": {},
   "outputs": [
    {
     "data": {
      "text/plain": [
       "1    https://www.prestige-cellar.fr/fr/9128-a-berge...\n",
       "0    https://3kwine.com/products/copia-del-champagn...\n",
       "2    https://3kwine.com/products/champagne-brut-oen...\n",
       "6    https://www.vinsgrandscrus.com/domaine-de-vill...\n",
       "6    https://www.vinsgrandscrus.com/domaine-de-vill...\n",
       "7    https://www.unionsquarewines.com/wines/Domaine...\n",
       "7    https://www.unionsquarewines.com/wines/Domaine...\n",
       "Name: shop_link, dtype: object"
      ]
     },
     "execution_count": 148,
     "metadata": {},
     "output_type": "execute_result"
    }
   ],
   "source": [
    "yyy[yyy[\"bottle_size\"] == \"Magnum (1.5L)\"][\"shop_link\"]"
   ]
  },
  {
   "cell_type": "code",
   "execution_count": 107,
   "id": "7a57bf7b",
   "metadata": {},
   "outputs": [
    {
     "data": {
      "text/html": [
       "<div>\n",
       "<style scoped>\n",
       "    .dataframe tbody tr th:only-of-type {\n",
       "        vertical-align: middle;\n",
       "    }\n",
       "\n",
       "    .dataframe tbody tr th {\n",
       "        vertical-align: top;\n",
       "    }\n",
       "\n",
       "    .dataframe thead th {\n",
       "        text-align: right;\n",
       "    }\n",
       "</style>\n",
       "<table border=\"1\" class=\"dataframe\">\n",
       "  <thead>\n",
       "    <tr style=\"text-align: right;\">\n",
       "      <th></th>\n",
       "      <th>Product Name</th>\n",
       "      <th>shop_name</th>\n",
       "      <th>shop_location</th>\n",
       "      <th>vintage</th>\n",
       "      <th>bottle_size</th>\n",
       "      <th>price</th>\n",
       "      <th>shop_link</th>\n",
       "    </tr>\n",
       "  </thead>\n",
       "  <tbody>\n",
       "    <tr>\n",
       "      <th>1</th>\n",
       "      <td>18 BOURGOGNE PINOT NOIR, DOMAINE A-F GROS</td>\n",
       "      <td>Village Corner</td>\n",
       "      <td>USA:                                          ...</td>\n",
       "      <td>2018</td>\n",
       "      <td>Bottle (750ml)</td>\n",
       "      <td>17,858</td>\n",
       "      <td>https://villagecorner.com</td>\n",
       "    </tr>\n",
       "    <tr>\n",
       "      <th>6</th>\n",
       "      <td>2010 Champagne Millesime Prestige Brut Champag...</td>\n",
       "      <td>Greenwood Fine Wine</td>\n",
       "      <td>Denmark:                                      ...</td>\n",
       "      <td>2010</td>\n",
       "      <td>Bottle (750ml)</td>\n",
       "      <td>21,457</td>\n",
       "      <td>https://www.greenwoodfinewine.dk/vine/a-berger...</td>\n",
       "    </tr>\n",
       "    <tr>\n",
       "      <th>2</th>\n",
       "      <td>2018 A. et P. de Villaine Aligote Bouzeron</td>\n",
       "      <td>Sage Society</td>\n",
       "      <td>USA:                                          ...</td>\n",
       "      <td>2018</td>\n",
       "      <td>Bottle (750ml)</td>\n",
       "      <td>17,444</td>\n",
       "      <td>https://sagesociety.com/products/2018-a-et-p-d...</td>\n",
       "    </tr>\n",
       "    <tr>\n",
       "      <th>5</th>\n",
       "      <td>2018 Domaine A. &amp; P. de Villaine Bouzeron, Cot...</td>\n",
       "      <td>Leon &amp; Son Wine Grand Rapids</td>\n",
       "      <td>USA:                                          ...</td>\n",
       "      <td>2018</td>\n",
       "      <td>Bottle (750ml)</td>\n",
       "      <td>19,941</td>\n",
       "      <td>https://www.leonandsongr.com/product/2018-doma...</td>\n",
       "    </tr>\n",
       "    <tr>\n",
       "      <th>20</th>\n",
       "      <td>2018 Domaine A. et P. de Villaine Rully \"Rabou...</td>\n",
       "      <td>Wine House</td>\n",
       "      <td>USA:                                          ...</td>\n",
       "      <td>2018</td>\n",
       "      <td>Bottle (750ml)</td>\n",
       "      <td>37,382</td>\n",
       "      <td>https://www.winehouse.com/?p=1031262</td>\n",
       "    </tr>\n",
       "    <tr>\n",
       "      <th>...</th>\n",
       "      <td>...</td>\n",
       "      <td>...</td>\n",
       "      <td>...</td>\n",
       "      <td>...</td>\n",
       "      <td>...</td>\n",
       "      <td>...</td>\n",
       "      <td>...</td>\n",
       "    </tr>\n",
       "    <tr>\n",
       "      <th>0</th>\n",
       "      <td>Rendez Vous Rouge 2019, Domaine des Accoles, 2...</td>\n",
       "      <td>Le Millesime Siegenthaler Freres</td>\n",
       "      <td>Switzerland:                                  ...</td>\n",
       "      <td>2019</td>\n",
       "      <td>Bottle (750ml)</td>\n",
       "      <td>6,373</td>\n",
       "      <td>https://www.lemillesime.ch/fr/1915.html</td>\n",
       "    </tr>\n",
       "    <tr>\n",
       "      <th>0</th>\n",
       "      <td>Rully 1er Cru Rabource 2018 - Domaine de Villa...</td>\n",
       "      <td>Pleasure Wine</td>\n",
       "      <td>France:                                       ...</td>\n",
       "      <td>2018</td>\n",
       "      <td>Bottle (750ml)</td>\n",
       "      <td>24,274</td>\n",
       "      <td>https://pleasurewine.com/en/rully/1443-rully-1...</td>\n",
       "    </tr>\n",
       "    <tr>\n",
       "      <th>4</th>\n",
       "      <td>Rully Rabource 1er Cru blanc, Domaine de Villaine</td>\n",
       "      <td>Kierdorf Wein</td>\n",
       "      <td>Germany:                                      ...</td>\n",
       "      <td>2018</td>\n",
       "      <td>Bottle (750ml)</td>\n",
       "      <td>27,351</td>\n",
       "      <td>https://www.kierdorfwein.de/de/rullyrabource1e...</td>\n",
       "    </tr>\n",
       "    <tr>\n",
       "      <th>4</th>\n",
       "      <td>Villaine, A. Et P. De Dom. - Bouzeron Aligote ...</td>\n",
       "      <td>Blanc et Rouge Wine and Spirits</td>\n",
       "      <td>USA:                                          ...</td>\n",
       "      <td>2018</td>\n",
       "      <td>Bottle (750ml)</td>\n",
       "      <td>18,275</td>\n",
       "      <td>https://www.brwine.com/wines/Villaine-A.-Et-P....</td>\n",
       "    </tr>\n",
       "    <tr>\n",
       "      <th>13</th>\n",
       "      <td>[Pre-Order] Domaine Aubert et Pamela Villaine,...</td>\n",
       "      <td>Two More Glasses</td>\n",
       "      <td>Hong Kong                                     ...</td>\n",
       "      <td>2018</td>\n",
       "      <td>Case of 6 Btls</td>\n",
       "      <td>200,030</td>\n",
       "      <td>https://www.twomoreglasses.com/products/pre-or...</td>\n",
       "    </tr>\n",
       "  </tbody>\n",
       "</table>\n",
       "<p>98 rows × 7 columns</p>\n",
       "</div>"
      ],
      "text/plain": [
       "                                         Product Name  \\\n",
       "1           18 BOURGOGNE PINOT NOIR, DOMAINE A-F GROS   \n",
       "6   2010 Champagne Millesime Prestige Brut Champag...   \n",
       "2          2018 A. et P. de Villaine Aligote Bouzeron   \n",
       "5   2018 Domaine A. & P. de Villaine Bouzeron, Cot...   \n",
       "20  2018 Domaine A. et P. de Villaine Rully \"Rabou...   \n",
       "..                                                ...   \n",
       "0   Rendez Vous Rouge 2019, Domaine des Accoles, 2...   \n",
       "0   Rully 1er Cru Rabource 2018 - Domaine de Villa...   \n",
       "4   Rully Rabource 1er Cru blanc, Domaine de Villaine   \n",
       "4   Villaine, A. Et P. De Dom. - Bouzeron Aligote ...   \n",
       "13  [Pre-Order] Domaine Aubert et Pamela Villaine,...   \n",
       "\n",
       "                           shop_name  \\\n",
       "1                     Village Corner   \n",
       "6                Greenwood Fine Wine   \n",
       "2                       Sage Society   \n",
       "5       Leon & Son Wine Grand Rapids   \n",
       "20                        Wine House   \n",
       "..                               ...   \n",
       "0   Le Millesime Siegenthaler Freres   \n",
       "0                      Pleasure Wine   \n",
       "4                      Kierdorf Wein   \n",
       "4    Blanc et Rouge Wine and Spirits   \n",
       "13                  Two More Glasses   \n",
       "\n",
       "                                        shop_location vintage     bottle_size  \\\n",
       "1   USA:                                          ...    2018  Bottle (750ml)   \n",
       "6   Denmark:                                      ...    2010  Bottle (750ml)   \n",
       "2   USA:                                          ...    2018  Bottle (750ml)   \n",
       "5   USA:                                          ...    2018  Bottle (750ml)   \n",
       "20  USA:                                          ...    2018  Bottle (750ml)   \n",
       "..                                                ...     ...             ...   \n",
       "0   Switzerland:                                  ...    2019  Bottle (750ml)   \n",
       "0   France:                                       ...    2018  Bottle (750ml)   \n",
       "4   Germany:                                      ...    2018  Bottle (750ml)   \n",
       "4   USA:                                          ...    2018  Bottle (750ml)   \n",
       "13  Hong Kong                                     ...    2018  Case of 6 Btls   \n",
       "\n",
       "      price                                          shop_link  \n",
       "1    17,858                          https://villagecorner.com  \n",
       "6    21,457  https://www.greenwoodfinewine.dk/vine/a-berger...  \n",
       "2    17,444  https://sagesociety.com/products/2018-a-et-p-d...  \n",
       "5    19,941  https://www.leonandsongr.com/product/2018-doma...  \n",
       "20   37,382               https://www.winehouse.com/?p=1031262  \n",
       "..      ...                                                ...  \n",
       "0     6,373            https://www.lemillesime.ch/fr/1915.html  \n",
       "0    24,274  https://pleasurewine.com/en/rully/1443-rully-1...  \n",
       "4    27,351  https://www.kierdorfwein.de/de/rullyrabource1e...  \n",
       "4    18,275  https://www.brwine.com/wines/Villaine-A.-Et-P....  \n",
       "13  200,030  https://www.twomoreglasses.com/products/pre-or...  \n",
       "\n",
       "[98 rows x 7 columns]"
      ]
     },
     "execution_count": 107,
     "metadata": {},
     "output_type": "execute_result"
    }
   ],
   "source": [
    "#Drop duplicates of wine\n",
    "yyy = yyy[~yyy[\"Product Name\"].duplicated()]\n",
    "yyy"
   ]
  },
  {
   "cell_type": "code",
   "execution_count": 109,
   "id": "3fcde2f3",
   "metadata": {},
   "outputs": [
    {
     "data": {
      "text/plain": [
       "0"
      ]
     },
     "execution_count": 109,
     "metadata": {},
     "output_type": "execute_result"
    }
   ],
   "source": [
    "yyy[\"Product Name\"].duplicated().sum()"
   ]
  },
  {
   "cell_type": "code",
   "execution_count": 1,
   "id": "21cd1a65",
   "metadata": {},
   "outputs": [],
   "source": [
    "import pandas as pd"
   ]
  },
  {
   "cell_type": "code",
   "execution_count": 2,
   "id": "ca9b031d",
   "metadata": {},
   "outputs": [],
   "source": [
    "all_wine = pd.read_excel(\"allwinesearcher.xlsx\")\n",
    "source_wine = pd.read_excel(\"Cleaned Source File.xlsx\")"
   ]
  },
  {
   "cell_type": "code",
   "execution_count": 27,
   "id": "2a441e98",
   "metadata": {},
   "outputs": [
    {
     "data": {
      "text/html": [
       "<div>\n",
       "<style scoped>\n",
       "    .dataframe tbody tr th:only-of-type {\n",
       "        vertical-align: middle;\n",
       "    }\n",
       "\n",
       "    .dataframe tbody tr th {\n",
       "        vertical-align: top;\n",
       "    }\n",
       "\n",
       "    .dataframe thead th {\n",
       "        text-align: right;\n",
       "    }\n",
       "</style>\n",
       "<table border=\"1\" class=\"dataframe\">\n",
       "  <thead>\n",
       "    <tr style=\"text-align: right;\">\n",
       "      <th></th>\n",
       "      <th>Product Name</th>\n",
       "      <th>Vintage</th>\n",
       "      <th>Volume</th>\n",
       "      <th>Cheapest_Price (Euro)</th>\n",
       "      <th>Cheapest_Price</th>\n",
       "      <th>Average_Price (Euro)</th>\n",
       "      <th>Average_Price</th>\n",
       "      <th>Shop_Link</th>\n",
       "    </tr>\n",
       "  </thead>\n",
       "  <tbody>\n",
       "    <tr>\n",
       "      <th>2995</th>\n",
       "      <td>2018 Domaine Yvon Clerget Les Santenots, Voln...</td>\n",
       "      <td>2018.0</td>\n",
       "      <td>Bottle (750ml)</td>\n",
       "      <td>70.619696</td>\n",
       "      <td>29709</td>\n",
       "      <td>64.998574</td>\n",
       "      <td>27341.0</td>\n",
       "      <td>http://www.topwines.ch</td>\n",
       "    </tr>\n",
       "    <tr>\n",
       "      <th>1557</th>\n",
       "      <td>6 bts. Volnay “Vieilles Vignes” Pierre Girard...</td>\n",
       "      <td>2017.0</td>\n",
       "      <td>Bottle (750ml)</td>\n",
       "      <td>55.197414</td>\n",
       "      <td>23221</td>\n",
       "      <td>51.999334</td>\n",
       "      <td>21873.0</td>\n",
       "      <td>https://www.toastwines.com/products/13328035/p...</td>\n",
       "    </tr>\n",
       "    <tr>\n",
       "      <th>2989</th>\n",
       "      <td>Bas Armagnac Laubade 1946</td>\n",
       "      <td>1946.0</td>\n",
       "      <td>Bottle (750ml)</td>\n",
       "      <td>1694.449595</td>\n",
       "      <td>712838</td>\n",
       "      <td>1137.176683</td>\n",
       "      <td>478342.0</td>\n",
       "      <td>https://www.frootbat.com/product/23383/1946/Ch...</td>\n",
       "    </tr>\n",
       "    <tr>\n",
       "      <th>936</th>\n",
       "      <td>Bordeaux, Haut Medoc, La Lagune, Lagune 1993,...</td>\n",
       "      <td>1993.0</td>\n",
       "      <td>Case of 3 Btls</td>\n",
       "      <td>187.620338</td>\n",
       "      <td>78930</td>\n",
       "      <td>61.601369</td>\n",
       "      <td>25912.0</td>\n",
       "      <td>https://www.spectrumwine.com/auctions/auctionl...</td>\n",
       "    </tr>\n",
       "    <tr>\n",
       "      <th>918</th>\n",
       "      <td>Bordeaux, Pauillac, Grand Puy Lacoste, Grand ...</td>\n",
       "      <td>1969.0</td>\n",
       "      <td>Bottle (750ml)</td>\n",
       "      <td>136.252347</td>\n",
       "      <td>57320</td>\n",
       "      <td>143.343477</td>\n",
       "      <td>60296.0</td>\n",
       "      <td>https://www.vinsetmillesimes.com/en/grand-puy-...</td>\n",
       "    </tr>\n",
       "    <tr>\n",
       "      <th>...</th>\n",
       "      <td>...</td>\n",
       "      <td>...</td>\n",
       "      <td>...</td>\n",
       "      <td>...</td>\n",
       "      <td>...</td>\n",
       "      <td>...</td>\n",
       "      <td>...</td>\n",
       "      <td>...</td>\n",
       "    </tr>\n",
       "    <tr>\n",
       "      <th>1938</th>\n",
       "      <td>[Lot 683], [1] 2003 Domaine Rene Engel Les Bru...</td>\n",
       "      <td>2003.0</td>\n",
       "      <td>Case of 6 Btls</td>\n",
       "      <td>26638.474886</td>\n",
       "      <td>11206540</td>\n",
       "      <td>3557.257988</td>\n",
       "      <td>1496325.0</td>\n",
       "      <td>https://westgarthwines.com/products/france-bur...</td>\n",
       "    </tr>\n",
       "    <tr>\n",
       "      <th>1939</th>\n",
       "      <td>[Lot 764], [1] 2018 Domaine Francois Raveneau ...</td>\n",
       "      <td>2018.0</td>\n",
       "      <td>Magnum (1.5L)</td>\n",
       "      <td>286.598208</td>\n",
       "      <td>120569</td>\n",
       "      <td>178.454260</td>\n",
       "      <td>75065.0</td>\n",
       "      <td>NaN</td>\n",
       "    </tr>\n",
       "    <tr>\n",
       "      <th>1940</th>\n",
       "      <td>[lot 2231/3135] 1 bt. Chablis Grand Cru “Valmu...</td>\n",
       "      <td>2000.0</td>\n",
       "      <td>Bottle (750ml)</td>\n",
       "      <td>1096.113528</td>\n",
       "      <td>461124</td>\n",
       "      <td>1094.358596</td>\n",
       "      <td>460331.0</td>\n",
       "      <td>http://www.finestwine.com/en/2000/61124-ravene...</td>\n",
       "    </tr>\n",
       "    <tr>\n",
       "      <th>1941</th>\n",
       "      <td>[lot 2231/3150] 1 bt. Chablis 1. Cru “Butteaux...</td>\n",
       "      <td>2009.0</td>\n",
       "      <td>Bottle (750ml)</td>\n",
       "      <td>256.723478</td>\n",
       "      <td>108001</td>\n",
       "      <td>541.270445</td>\n",
       "      <td>227680.0</td>\n",
       "      <td>https://bruun-rasmussen.dk/m/lots/562C76F158BA</td>\n",
       "    </tr>\n",
       "    <tr>\n",
       "      <th>1942</th>\n",
       "      <td>[lot 2231/3166] 1 bt. Chablis 1. Cru “Mont Mai...</td>\n",
       "      <td>2002.0</td>\n",
       "      <td>Bottle (750ml)</td>\n",
       "      <td>351.303810</td>\n",
       "      <td>147790</td>\n",
       "      <td>678.361544</td>\n",
       "      <td>285346.0</td>\n",
       "      <td>https://bruun-rasmussen.dk/m/lots/3478024608FB</td>\n",
       "    </tr>\n",
       "  </tbody>\n",
       "</table>\n",
       "<p>3003 rows × 8 columns</p>\n",
       "</div>"
      ],
      "text/plain": [
       "                                           Product Name  Vintage  \\\n",
       "2995   2018 Domaine Yvon Clerget Les Santenots, Voln...   2018.0   \n",
       "1557   6 bts. Volnay “Vieilles Vignes” Pierre Girard...   2017.0   \n",
       "2989              Bas Armagnac Laubade 1946               1946.0   \n",
       "936    Bordeaux, Haut Medoc, La Lagune, Lagune 1993,...   1993.0   \n",
       "918    Bordeaux, Pauillac, Grand Puy Lacoste, Grand ...   1969.0   \n",
       "...                                                 ...      ...   \n",
       "1938  [Lot 683], [1] 2003 Domaine Rene Engel Les Bru...   2003.0   \n",
       "1939  [Lot 764], [1] 2018 Domaine Francois Raveneau ...   2018.0   \n",
       "1940  [lot 2231/3135] 1 bt. Chablis Grand Cru “Valmu...   2000.0   \n",
       "1941  [lot 2231/3150] 1 bt. Chablis 1. Cru “Butteaux...   2009.0   \n",
       "1942  [lot 2231/3166] 1 bt. Chablis 1. Cru “Mont Mai...   2002.0   \n",
       "\n",
       "              Volume  Cheapest_Price (Euro)  Cheapest_Price  \\\n",
       "2995  Bottle (750ml)              70.619696           29709   \n",
       "1557  Bottle (750ml)              55.197414           23221   \n",
       "2989  Bottle (750ml)            1694.449595          712838   \n",
       "936   Case of 3 Btls             187.620338           78930   \n",
       "918   Bottle (750ml)             136.252347           57320   \n",
       "...              ...                    ...             ...   \n",
       "1938  Case of 6 Btls           26638.474886        11206540   \n",
       "1939   Magnum (1.5L)             286.598208          120569   \n",
       "1940  Bottle (750ml)            1096.113528          461124   \n",
       "1941  Bottle (750ml)             256.723478          108001   \n",
       "1942  Bottle (750ml)             351.303810          147790   \n",
       "\n",
       "      Average_Price (Euro)  Average_Price  \\\n",
       "2995             64.998574        27341.0   \n",
       "1557             51.999334        21873.0   \n",
       "2989           1137.176683       478342.0   \n",
       "936              61.601369        25912.0   \n",
       "918             143.343477        60296.0   \n",
       "...                    ...            ...   \n",
       "1938           3557.257988      1496325.0   \n",
       "1939            178.454260        75065.0   \n",
       "1940           1094.358596       460331.0   \n",
       "1941            541.270445       227680.0   \n",
       "1942            678.361544       285346.0   \n",
       "\n",
       "                                              Shop_Link  \n",
       "2995                             http://www.topwines.ch  \n",
       "1557  https://www.toastwines.com/products/13328035/p...  \n",
       "2989  https://www.frootbat.com/product/23383/1946/Ch...  \n",
       "936   https://www.spectrumwine.com/auctions/auctionl...  \n",
       "918   https://www.vinsetmillesimes.com/en/grand-puy-...  \n",
       "...                                                 ...  \n",
       "1938  https://westgarthwines.com/products/france-bur...  \n",
       "1939                                                NaN  \n",
       "1940  http://www.finestwine.com/en/2000/61124-ravene...  \n",
       "1941     https://bruun-rasmussen.dk/m/lots/562C76F158BA  \n",
       "1942     https://bruun-rasmussen.dk/m/lots/3478024608FB  \n",
       "\n",
       "[3003 rows x 8 columns]"
      ]
     },
     "execution_count": 27,
     "metadata": {},
     "output_type": "execute_result"
    }
   ],
   "source": [
    "all_wine.sort_values(by = \"Product Name\", ascending = True)[5:]"
   ]
  },
  {
   "cell_type": "code",
   "execution_count": 3,
   "id": "bf429865",
   "metadata": {},
   "outputs": [
    {
     "data": {
      "text/html": [
       "<div>\n",
       "<style scoped>\n",
       "    .dataframe tbody tr th:only-of-type {\n",
       "        vertical-align: middle;\n",
       "    }\n",
       "\n",
       "    .dataframe tbody tr th {\n",
       "        vertical-align: top;\n",
       "    }\n",
       "\n",
       "    .dataframe thead th {\n",
       "        text-align: right;\n",
       "    }\n",
       "</style>\n",
       "<table border=\"1\" class=\"dataframe\">\n",
       "  <thead>\n",
       "    <tr style=\"text-align: right;\">\n",
       "      <th></th>\n",
       "      <th>Product Name</th>\n",
       "      <th>Price € (excluding tax)</th>\n",
       "    </tr>\n",
       "  </thead>\n",
       "  <tbody>\n",
       "    <tr>\n",
       "      <th>0</th>\n",
       "      <td>De Villaine - Bourgogne \"La Digoine\" 1976 ( Vi...</td>\n",
       "      <td>270,00</td>\n",
       "    </tr>\n",
       "  </tbody>\n",
       "</table>\n",
       "</div>"
      ],
      "text/plain": [
       "                                        Product Name Price € (excluding tax) \n",
       "0  De Villaine - Bourgogne \"La Digoine\" 1976 ( Vi...                   270,00"
      ]
     },
     "execution_count": 3,
     "metadata": {},
     "output_type": "execute_result"
    }
   ],
   "source": [
    "source_wine.head(1)"
   ]
  },
  {
   "cell_type": "code",
   "execution_count": 99,
   "id": "9d274c88",
   "metadata": {},
   "outputs": [
    {
     "data": {
      "text/html": [
       "<div>\n",
       "<style scoped>\n",
       "    .dataframe tbody tr th:only-of-type {\n",
       "        vertical-align: middle;\n",
       "    }\n",
       "\n",
       "    .dataframe tbody tr th {\n",
       "        vertical-align: top;\n",
       "    }\n",
       "\n",
       "    .dataframe thead th {\n",
       "        text-align: right;\n",
       "    }\n",
       "</style>\n",
       "<table border=\"1\" class=\"dataframe\">\n",
       "  <thead>\n",
       "    <tr style=\"text-align: right;\">\n",
       "      <th></th>\n",
       "      <th>Product Name</th>\n",
       "      <th>shop_name</th>\n",
       "      <th>shop_location</th>\n",
       "      <th>vintage</th>\n",
       "      <th>bottle_size</th>\n",
       "      <th>price</th>\n",
       "      <th>shop_link</th>\n",
       "      <th>Price € (excluding tax)</th>\n",
       "    </tr>\n",
       "  </thead>\n",
       "  <tbody>\n",
       "    <tr>\n",
       "      <th>0</th>\n",
       "      <td>AF Gros - Bourgogne Pinot Noir 2018</td>\n",
       "      <td>Prestige Cellar - France</td>\n",
       "      <td>France:                                       ...</td>\n",
       "      <td>2018</td>\n",
       "      <td>Bottle (750ml)</td>\n",
       "      <td>11,800</td>\n",
       "      <td>https://www.prestige-cellar.fr/fr/3578-af-gros...</td>\n",
       "      <td>28,00</td>\n",
       "    </tr>\n",
       "    <tr>\n",
       "      <th>1</th>\n",
       "      <td>Aberfeldy - Whisky Single Malt Cask (aged 19 y...</td>\n",
       "      <td>Prestige Cellar - France</td>\n",
       "      <td>France:                                       ...</td>\n",
       "      <td>1990</td>\n",
       "      <td>700ml</td>\n",
       "      <td>166,466</td>\n",
       "      <td>https://www.prestige-cellar.fr/fr/6747-aberfel...</td>\n",
       "      <td>395,00</td>\n",
       "    </tr>\n",
       "  </tbody>\n",
       "</table>\n",
       "</div>"
      ],
      "text/plain": [
       "                                        Product Name  \\\n",
       "0                AF Gros - Bourgogne Pinot Noir 2018   \n",
       "1  Aberfeldy - Whisky Single Malt Cask (aged 19 y...   \n",
       "\n",
       "                  shop_name  \\\n",
       "0  Prestige Cellar - France   \n",
       "1  Prestige Cellar - France   \n",
       "\n",
       "                                       shop_location vintage     bottle_size  \\\n",
       "0  France:                                       ...    2018  Bottle (750ml)   \n",
       "1  France:                                       ...    1990           700ml   \n",
       "\n",
       "     price                                          shop_link  \\\n",
       "0   11,800  https://www.prestige-cellar.fr/fr/3578-af-gros...   \n",
       "1  166,466  https://www.prestige-cellar.fr/fr/6747-aberfel...   \n",
       "\n",
       "  Price € (excluding tax)   \n",
       "0                    28,00  \n",
       "1                   395,00  "
      ]
     },
     "execution_count": 99,
     "metadata": {},
     "output_type": "execute_result"
    }
   ],
   "source": [
    "pd.merge(yyy, source_wine, on = \"Product Name\")"
   ]
  },
  {
   "cell_type": "code",
   "execution_count": 14,
   "id": "62c44c3c",
   "metadata": {
    "scrolled": false
   },
   "outputs": [
    {
     "data": {
      "text/plain": [
       "set()"
      ]
     },
     "execution_count": 14,
     "metadata": {},
     "output_type": "execute_result"
    }
   ],
   "source": [
    "#Check names that are common to both of them\n",
    "set(source_wine[\"Product Name\"].to_list()).intersection(set(all_wine[\"Product Name\"].to_list()))"
   ]
  },
  {
   "cell_type": "code",
   "execution_count": 28,
   "id": "f0d09cce",
   "metadata": {},
   "outputs": [
    {
     "data": {
      "text/plain": [
       "'1997 La Lagune            '"
      ]
     },
     "execution_count": 28,
     "metadata": {},
     "output_type": "execute_result"
    }
   ],
   "source": [
    "all_wine[\"Product Name\"][10]"
   ]
  },
  {
   "cell_type": "code",
   "execution_count": 20,
   "id": "5f236ead",
   "metadata": {},
   "outputs": [
    {
     "data": {
      "text/html": [
       "<div>\n",
       "<style scoped>\n",
       "    .dataframe tbody tr th:only-of-type {\n",
       "        vertical-align: middle;\n",
       "    }\n",
       "\n",
       "    .dataframe tbody tr th {\n",
       "        vertical-align: top;\n",
       "    }\n",
       "\n",
       "    .dataframe thead th {\n",
       "        text-align: right;\n",
       "    }\n",
       "</style>\n",
       "<table border=\"1\" class=\"dataframe\">\n",
       "  <thead>\n",
       "    <tr style=\"text-align: right;\">\n",
       "      <th></th>\n",
       "      <th>Product Name</th>\n",
       "      <th>Vintage</th>\n",
       "      <th>Volume</th>\n",
       "      <th>Cheapest_Price (Euro)</th>\n",
       "      <th>Cheapest_Price</th>\n",
       "      <th>Average_Price (Euro)</th>\n",
       "      <th>Average_Price</th>\n",
       "      <th>Shop_Link</th>\n",
       "    </tr>\n",
       "  </thead>\n",
       "  <tbody>\n",
       "  </tbody>\n",
       "</table>\n",
       "</div>"
      ],
      "text/plain": [
       "Empty DataFrame\n",
       "Columns: [Product Name, Vintage, Volume, Cheapest_Price (Euro), Cheapest_Price, Average_Price (Euro), Average_Price, Shop_Link]\n",
       "Index: []"
      ]
     },
     "execution_count": 20,
     "metadata": {},
     "output_type": "execute_result"
    }
   ],
   "source": [
    "all_wine[all_wine[\"Product Name\"] == \"AF Gros - Bourgogne Pinot N\"]"
   ]
  },
  {
   "cell_type": "code",
   "execution_count": 39,
   "id": "e05dbb01",
   "metadata": {},
   "outputs": [],
   "source": [
    "source_wine = source_wine[source_wine[\"Product Name\"].notnull()]"
   ]
  },
  {
   "cell_type": "code",
   "execution_count": 40,
   "id": "cd02a037",
   "metadata": {},
   "outputs": [
    {
     "data": {
      "text/html": [
       "<div>\n",
       "<style scoped>\n",
       "    .dataframe tbody tr th:only-of-type {\n",
       "        vertical-align: middle;\n",
       "    }\n",
       "\n",
       "    .dataframe tbody tr th {\n",
       "        vertical-align: top;\n",
       "    }\n",
       "\n",
       "    .dataframe thead th {\n",
       "        text-align: right;\n",
       "    }\n",
       "</style>\n",
       "<table border=\"1\" class=\"dataframe\">\n",
       "  <thead>\n",
       "    <tr style=\"text-align: right;\">\n",
       "      <th></th>\n",
       "      <th>Product Name</th>\n",
       "      <th>Price € (excluding tax)</th>\n",
       "    </tr>\n",
       "  </thead>\n",
       "  <tbody>\n",
       "    <tr>\n",
       "      <th>1841</th>\n",
       "      <td>La Lagune - Haut Médoc 1983</td>\n",
       "      <td>48,00</td>\n",
       "    </tr>\n",
       "    <tr>\n",
       "      <th>1842</th>\n",
       "      <td>La Lagune - Haut Médoc 1986</td>\n",
       "      <td>55,00</td>\n",
       "    </tr>\n",
       "    <tr>\n",
       "      <th>1843</th>\n",
       "      <td>La Lagune - Haut Médoc 1987</td>\n",
       "      <td>150,00</td>\n",
       "    </tr>\n",
       "    <tr>\n",
       "      <th>1844</th>\n",
       "      <td>La Lagune - Haut Médoc 1988</td>\n",
       "      <td>60,00</td>\n",
       "    </tr>\n",
       "    <tr>\n",
       "      <th>1845</th>\n",
       "      <td>La Lagune - Haut Médoc 1993</td>\n",
       "      <td>42,00</td>\n",
       "    </tr>\n",
       "    <tr>\n",
       "      <th>1846</th>\n",
       "      <td>La Lagune - Haut Médoc 1994</td>\n",
       "      <td>49,00</td>\n",
       "    </tr>\n",
       "    <tr>\n",
       "      <th>1847</th>\n",
       "      <td>La Lagune - Haut Médoc 1996</td>\n",
       "      <td>55,00</td>\n",
       "    </tr>\n",
       "    <tr>\n",
       "      <th>1848</th>\n",
       "      <td>La Lagune - Haut Médoc 1997</td>\n",
       "      <td>39,00</td>\n",
       "    </tr>\n",
       "    <tr>\n",
       "      <th>1849</th>\n",
       "      <td>La Lagune - Haut Médoc 1998</td>\n",
       "      <td>45,00</td>\n",
       "    </tr>\n",
       "    <tr>\n",
       "      <th>1850</th>\n",
       "      <td>La Lagune - Haut Médoc 1999</td>\n",
       "      <td>49,00</td>\n",
       "    </tr>\n",
       "    <tr>\n",
       "      <th>1851</th>\n",
       "      <td>La Lagune - Haut Médoc 2019</td>\n",
       "      <td>40,00</td>\n",
       "    </tr>\n",
       "  </tbody>\n",
       "</table>\n",
       "</div>"
      ],
      "text/plain": [
       "                      Product Name Price € (excluding tax) \n",
       "1841   La Lagune - Haut Médoc 1983                    48,00\n",
       "1842   La Lagune - Haut Médoc 1986                    55,00\n",
       "1843  La Lagune - Haut Médoc 1987                    150,00\n",
       "1844   La Lagune - Haut Médoc 1988                    60,00\n",
       "1845   La Lagune - Haut Médoc 1993                    42,00\n",
       "1846   La Lagune - Haut Médoc 1994                    49,00\n",
       "1847   La Lagune - Haut Médoc 1996                    55,00\n",
       "1848   La Lagune - Haut Médoc 1997                    39,00\n",
       "1849   La Lagune - Haut Médoc 1998                    45,00\n",
       "1850   La Lagune - Haut Médoc 1999                    49,00\n",
       "1851   La Lagune - Haut Médoc 2019                    40,00"
      ]
     },
     "execution_count": 40,
     "metadata": {},
     "output_type": "execute_result"
    }
   ],
   "source": [
    "source_wine[source_wine[\"Product Name\"].str.contains(r\"La Lagune\")]"
   ]
  },
  {
   "cell_type": "code",
   "execution_count": 58,
   "id": "d3dc75fe",
   "metadata": {},
   "outputs": [
    {
     "data": {
      "text/html": [
       "<div>\n",
       "<style scoped>\n",
       "    .dataframe tbody tr th:only-of-type {\n",
       "        vertical-align: middle;\n",
       "    }\n",
       "\n",
       "    .dataframe tbody tr th {\n",
       "        vertical-align: top;\n",
       "    }\n",
       "\n",
       "    .dataframe thead th {\n",
       "        text-align: right;\n",
       "    }\n",
       "</style>\n",
       "<table border=\"1\" class=\"dataframe\">\n",
       "  <thead>\n",
       "    <tr style=\"text-align: right;\">\n",
       "      <th></th>\n",
       "      <th>Product Name</th>\n",
       "      <th>Price € (excluding tax)</th>\n",
       "    </tr>\n",
       "  </thead>\n",
       "  <tbody>\n",
       "    <tr>\n",
       "      <th>135</th>\n",
       "      <td>Ayala - Blanc de Blancs 2014</td>\n",
       "      <td>41,00</td>\n",
       "    </tr>\n",
       "    <tr>\n",
       "      <th>137</th>\n",
       "      <td>Bachelet-Ramonet - Bienvenues Bâtard Montrache...</td>\n",
       "      <td>265,00</td>\n",
       "    </tr>\n",
       "    <tr>\n",
       "      <th>136</th>\n",
       "      <td>Bachelet-Ramonet - Bâtard Montrachet 2018</td>\n",
       "      <td>265,00</td>\n",
       "    </tr>\n",
       "    <tr>\n",
       "      <th>138</th>\n",
       "      <td>Bachelet-Ramonet - Chassagne Montrachet 1er Cr...</td>\n",
       "      <td>75,00</td>\n",
       "    </tr>\n",
       "    <tr>\n",
       "      <th>139</th>\n",
       "      <td>Bahans Haut Brion  - Pessac Léognan 2000</td>\n",
       "      <td>125,00</td>\n",
       "    </tr>\n",
       "    <tr>\n",
       "      <th>140</th>\n",
       "      <td>Balestard la Tonnelle - Saint Emilion 2016</td>\n",
       "      <td>33,00</td>\n",
       "    </tr>\n",
       "    <tr>\n",
       "      <th>141</th>\n",
       "      <td>Ballot-Millot - Bourgogne Chardonnay 2019</td>\n",
       "      <td>19,50</td>\n",
       "    </tr>\n",
       "    <tr>\n",
       "      <th>142</th>\n",
       "      <td>Ballot-Millot - Meursault \"Criots\" 2019</td>\n",
       "      <td>55,00</td>\n",
       "    </tr>\n",
       "    <tr>\n",
       "      <th>143</th>\n",
       "      <td>Ballot-Millot - Meursault \"Narvaux\" 2019</td>\n",
       "      <td>60,00</td>\n",
       "    </tr>\n",
       "    <tr>\n",
       "      <th>144</th>\n",
       "      <td>Ballot-Millot - Meursault 1er cru \"Genevrières...</td>\n",
       "      <td>95,00</td>\n",
       "    </tr>\n",
       "  </tbody>\n",
       "</table>\n",
       "</div>"
      ],
      "text/plain": [
       "                                          Product Name  \\\n",
       "135                       Ayala - Blanc de Blancs 2014   \n",
       "137  Bachelet-Ramonet - Bienvenues Bâtard Montrache...   \n",
       "136          Bachelet-Ramonet - Bâtard Montrachet 2018   \n",
       "138  Bachelet-Ramonet - Chassagne Montrachet 1er Cr...   \n",
       "139           Bahans Haut Brion  - Pessac Léognan 2000   \n",
       "140         Balestard la Tonnelle - Saint Emilion 2016   \n",
       "141          Ballot-Millot - Bourgogne Chardonnay 2019   \n",
       "142            Ballot-Millot - Meursault \"Criots\" 2019   \n",
       "143           Ballot-Millot - Meursault \"Narvaux\" 2019   \n",
       "144  Ballot-Millot - Meursault 1er cru \"Genevrières...   \n",
       "\n",
       "    Price € (excluding tax)   \n",
       "135                    41,00  \n",
       "137                   265,00  \n",
       "136                   265,00  \n",
       "138                    75,00  \n",
       "139                   125,00  \n",
       "140                    33,00  \n",
       "141                    19,50  \n",
       "142                    55,00  \n",
       "143                    60,00  \n",
       "144                    95,00  "
      ]
     },
     "execution_count": 58,
     "metadata": {},
     "output_type": "execute_result"
    }
   ],
   "source": [
    "source_wine.sort_values(\"Product Name\")[125:].head(10)"
   ]
  },
  {
   "cell_type": "code",
   "execution_count": 60,
   "id": "3f0ca87a",
   "metadata": {},
   "outputs": [
    {
     "data": {
      "text/html": [
       "<div>\n",
       "<style scoped>\n",
       "    .dataframe tbody tr th:only-of-type {\n",
       "        vertical-align: middle;\n",
       "    }\n",
       "\n",
       "    .dataframe tbody tr th {\n",
       "        vertical-align: top;\n",
       "    }\n",
       "\n",
       "    .dataframe thead th {\n",
       "        text-align: right;\n",
       "    }\n",
       "</style>\n",
       "<table border=\"1\" class=\"dataframe\">\n",
       "  <thead>\n",
       "    <tr style=\"text-align: right;\">\n",
       "      <th></th>\n",
       "      <th>Product Name</th>\n",
       "      <th>Price € (excluding tax)</th>\n",
       "    </tr>\n",
       "  </thead>\n",
       "  <tbody>\n",
       "    <tr>\n",
       "      <th>1988</th>\n",
       "      <td>Le Puy - Bordeaux Supérieur 1978</td>\n",
       "      <td>195,00</td>\n",
       "    </tr>\n",
       "    <tr>\n",
       "      <th>2121</th>\n",
       "      <td>Blanc de Lynch Bages - Bordeaux 2001</td>\n",
       "      <td>80,00</td>\n",
       "    </tr>\n",
       "    <tr>\n",
       "      <th>2759</th>\n",
       "      <td>Rioublanc - Bordeaux 1990</td>\n",
       "      <td>30,00</td>\n",
       "    </tr>\n",
       "  </tbody>\n",
       "</table>\n",
       "</div>"
      ],
      "text/plain": [
       "                              Product Name Price € (excluding tax) \n",
       "1988      Le Puy - Bordeaux Supérieur 1978                   195,00\n",
       "2121  Blanc de Lynch Bages - Bordeaux 2001                    80,00\n",
       "2759             Rioublanc - Bordeaux 1990                    30,00"
      ]
     },
     "execution_count": 60,
     "metadata": {},
     "output_type": "execute_result"
    }
   ],
   "source": [
    "source_wine[source_wine[\"Product Name\"].str.contains(\"Bordeaux\")]"
   ]
  },
  {
   "cell_type": "code",
   "execution_count": 47,
   "id": "8e7751d8",
   "metadata": {},
   "outputs": [
    {
     "data": {
      "text/html": [
       "<div>\n",
       "<style scoped>\n",
       "    .dataframe tbody tr th:only-of-type {\n",
       "        vertical-align: middle;\n",
       "    }\n",
       "\n",
       "    .dataframe tbody tr th {\n",
       "        vertical-align: top;\n",
       "    }\n",
       "\n",
       "    .dataframe thead th {\n",
       "        text-align: right;\n",
       "    }\n",
       "</style>\n",
       "<table border=\"1\" class=\"dataframe\">\n",
       "  <thead>\n",
       "    <tr style=\"text-align: right;\">\n",
       "      <th></th>\n",
       "      <th>Product Name</th>\n",
       "      <th>Vintage</th>\n",
       "      <th>Volume</th>\n",
       "      <th>Cheapest_Price (Euro)</th>\n",
       "      <th>Cheapest_Price</th>\n",
       "      <th>Average_Price (Euro)</th>\n",
       "      <th>Average_Price</th>\n",
       "      <th>Shop_Link</th>\n",
       "    </tr>\n",
       "  </thead>\n",
       "  <tbody>\n",
       "    <tr>\n",
       "      <th>2995</th>\n",
       "      <td>2018 Domaine Yvon Clerget Les Santenots, Voln...</td>\n",
       "      <td>2018.0</td>\n",
       "      <td>Bottle (750ml)</td>\n",
       "      <td>70.619696</td>\n",
       "      <td>29709</td>\n",
       "      <td>64.998574</td>\n",
       "      <td>27341.0</td>\n",
       "      <td>http://www.topwines.ch</td>\n",
       "    </tr>\n",
       "    <tr>\n",
       "      <th>1557</th>\n",
       "      <td>6 bts. Volnay “Vieilles Vignes” Pierre Girard...</td>\n",
       "      <td>2017.0</td>\n",
       "      <td>Bottle (750ml)</td>\n",
       "      <td>55.197414</td>\n",
       "      <td>23221</td>\n",
       "      <td>51.999334</td>\n",
       "      <td>21873.0</td>\n",
       "      <td>https://www.toastwines.com/products/13328035/p...</td>\n",
       "    </tr>\n",
       "    <tr>\n",
       "      <th>2989</th>\n",
       "      <td>Bas Armagnac Laubade 1946</td>\n",
       "      <td>1946.0</td>\n",
       "      <td>Bottle (750ml)</td>\n",
       "      <td>1694.449595</td>\n",
       "      <td>712838</td>\n",
       "      <td>1137.176683</td>\n",
       "      <td>478342.0</td>\n",
       "      <td>https://www.frootbat.com/product/23383/1946/Ch...</td>\n",
       "    </tr>\n",
       "    <tr>\n",
       "      <th>936</th>\n",
       "      <td>Bordeaux, Haut Medoc, La Lagune, Lagune 1993,...</td>\n",
       "      <td>1993.0</td>\n",
       "      <td>Case of 3 Btls</td>\n",
       "      <td>187.620338</td>\n",
       "      <td>78930</td>\n",
       "      <td>61.601369</td>\n",
       "      <td>25912.0</td>\n",
       "      <td>https://www.spectrumwine.com/auctions/auctionl...</td>\n",
       "    </tr>\n",
       "    <tr>\n",
       "      <th>918</th>\n",
       "      <td>Bordeaux, Pauillac, Grand Puy Lacoste, Grand ...</td>\n",
       "      <td>1969.0</td>\n",
       "      <td>Bottle (750ml)</td>\n",
       "      <td>136.252347</td>\n",
       "      <td>57320</td>\n",
       "      <td>143.343477</td>\n",
       "      <td>60296.0</td>\n",
       "      <td>https://www.vinsetmillesimes.com/en/grand-puy-...</td>\n",
       "    </tr>\n",
       "    <tr>\n",
       "      <th>939</th>\n",
       "      <td>Bordeaux, Saint Estephe, Haut Marbuzet, Haut ...</td>\n",
       "      <td>1997.0</td>\n",
       "      <td>Bottle (750ml)</td>\n",
       "      <td>59.269296</td>\n",
       "      <td>24934</td>\n",
       "      <td>46.201027</td>\n",
       "      <td>19434.0</td>\n",
       "      <td>http://www.topwines.ch</td>\n",
       "    </tr>\n",
       "    <tr>\n",
       "      <th>2964</th>\n",
       "      <td>Bordeaux, Saint Julien, Beychevelle, Beycheve...</td>\n",
       "      <td>1999.0</td>\n",
       "      <td>Case of 12 Btls</td>\n",
       "      <td>1689.196320</td>\n",
       "      <td>710628</td>\n",
       "      <td>119.391879</td>\n",
       "      <td>50221.0</td>\n",
       "      <td>http://www.finestwine.com/en/1999/11137-chatea...</td>\n",
       "    </tr>\n",
       "    <tr>\n",
       "      <th>2969</th>\n",
       "      <td>Burgundy, Chablis Grand cru, Vincent Dauvissa...</td>\n",
       "      <td>2018.0</td>\n",
       "      <td>Magnum (1.5L)</td>\n",
       "      <td>1402.174998</td>\n",
       "      <td>589881</td>\n",
       "      <td>404.276816</td>\n",
       "      <td>170055.0</td>\n",
       "      <td>https://westgarthwines.com/products/france-bur...</td>\n",
       "    </tr>\n",
       "    <tr>\n",
       "      <th>2959</th>\n",
       "      <td>Burgundy, Meursault 1er cru, Albert Grivault,...</td>\n",
       "      <td>2018.0</td>\n",
       "      <td>Half Bottle (375ml)</td>\n",
       "      <td>74.056907</td>\n",
       "      <td>31155</td>\n",
       "      <td>0.000000</td>\n",
       "      <td>NaN</td>\n",
       "      <td>https://www.finewinesinternational.com/wines/2...</td>\n",
       "    </tr>\n",
       "    <tr>\n",
       "      <th>2947</th>\n",
       "      <td>Burgundy, Pernand Vergelesses, Chapuis &amp; Chap...</td>\n",
       "      <td>2019.0</td>\n",
       "      <td>Bottle (750ml)</td>\n",
       "      <td>47.395945</td>\n",
       "      <td>19939</td>\n",
       "      <td>28.371054</td>\n",
       "      <td>11934.0</td>\n",
       "      <td>https://www.burgundywinecompany.com/wines/Chap...</td>\n",
       "    </tr>\n",
       "  </tbody>\n",
       "</table>\n",
       "</div>"
      ],
      "text/plain": [
       "                                           Product Name  Vintage  \\\n",
       "2995   2018 Domaine Yvon Clerget Les Santenots, Voln...   2018.0   \n",
       "1557   6 bts. Volnay “Vieilles Vignes” Pierre Girard...   2017.0   \n",
       "2989              Bas Armagnac Laubade 1946               1946.0   \n",
       "936    Bordeaux, Haut Medoc, La Lagune, Lagune 1993,...   1993.0   \n",
       "918    Bordeaux, Pauillac, Grand Puy Lacoste, Grand ...   1969.0   \n",
       "939    Bordeaux, Saint Estephe, Haut Marbuzet, Haut ...   1997.0   \n",
       "2964   Bordeaux, Saint Julien, Beychevelle, Beycheve...   1999.0   \n",
       "2969   Burgundy, Chablis Grand cru, Vincent Dauvissa...   2018.0   \n",
       "2959   Burgundy, Meursault 1er cru, Albert Grivault,...   2018.0   \n",
       "2947   Burgundy, Pernand Vergelesses, Chapuis & Chap...   2019.0   \n",
       "\n",
       "                   Volume  Cheapest_Price (Euro)  Cheapest_Price  \\\n",
       "2995       Bottle (750ml)              70.619696           29709   \n",
       "1557       Bottle (750ml)              55.197414           23221   \n",
       "2989       Bottle (750ml)            1694.449595          712838   \n",
       "936        Case of 3 Btls             187.620338           78930   \n",
       "918        Bottle (750ml)             136.252347           57320   \n",
       "939        Bottle (750ml)              59.269296           24934   \n",
       "2964      Case of 12 Btls            1689.196320          710628   \n",
       "2969        Magnum (1.5L)            1402.174998          589881   \n",
       "2959  Half Bottle (375ml)              74.056907           31155   \n",
       "2947       Bottle (750ml)              47.395945           19939   \n",
       "\n",
       "      Average_Price (Euro)  Average_Price  \\\n",
       "2995             64.998574        27341.0   \n",
       "1557             51.999334        21873.0   \n",
       "2989           1137.176683       478342.0   \n",
       "936              61.601369        25912.0   \n",
       "918             143.343477        60296.0   \n",
       "939              46.201027        19434.0   \n",
       "2964            119.391879        50221.0   \n",
       "2969            404.276816       170055.0   \n",
       "2959              0.000000            NaN   \n",
       "2947             28.371054        11934.0   \n",
       "\n",
       "                                              Shop_Link  \n",
       "2995                             http://www.topwines.ch  \n",
       "1557  https://www.toastwines.com/products/13328035/p...  \n",
       "2989  https://www.frootbat.com/product/23383/1946/Ch...  \n",
       "936   https://www.spectrumwine.com/auctions/auctionl...  \n",
       "918   https://www.vinsetmillesimes.com/en/grand-puy-...  \n",
       "939                              http://www.topwines.ch  \n",
       "2964  http://www.finestwine.com/en/1999/11137-chatea...  \n",
       "2969  https://westgarthwines.com/products/france-bur...  \n",
       "2959  https://www.finewinesinternational.com/wines/2...  \n",
       "2947  https://www.burgundywinecompany.com/wines/Chap...  "
      ]
     },
     "execution_count": 47,
     "metadata": {},
     "output_type": "execute_result"
    }
   ],
   "source": [
    "all_wine.sort_values(\"Product Name\")[5:].head(10)"
   ]
  },
  {
   "cell_type": "code",
   "execution_count": 67,
   "id": "a4153012",
   "metadata": {},
   "outputs": [
    {
     "data": {
      "text/html": [
       "<div>\n",
       "<style scoped>\n",
       "    .dataframe tbody tr th:only-of-type {\n",
       "        vertical-align: middle;\n",
       "    }\n",
       "\n",
       "    .dataframe tbody tr th {\n",
       "        vertical-align: top;\n",
       "    }\n",
       "\n",
       "    .dataframe thead th {\n",
       "        text-align: right;\n",
       "    }\n",
       "</style>\n",
       "<table border=\"1\" class=\"dataframe\">\n",
       "  <thead>\n",
       "    <tr style=\"text-align: right;\">\n",
       "      <th></th>\n",
       "      <th>Product Name</th>\n",
       "      <th>Price € (excluding tax)</th>\n",
       "    </tr>\n",
       "  </thead>\n",
       "  <tbody>\n",
       "    <tr>\n",
       "      <th>9</th>\n",
       "      <td>AF Gros - Bourgogne Pinot Noir 2018</td>\n",
       "      <td>28,00</td>\n",
       "    </tr>\n",
       "    <tr>\n",
       "      <th>92</th>\n",
       "      <td>Armand Heitz - Bourgogne Pinot Noir 2020</td>\n",
       "      <td>16,00</td>\n",
       "    </tr>\n",
       "    <tr>\n",
       "      <th>330</th>\n",
       "      <td>Brintet - Bourgogne Pinot Noir 2020</td>\n",
       "      <td>15,00</td>\n",
       "    </tr>\n",
       "    <tr>\n",
       "      <th>439</th>\n",
       "      <td>Chanterêves - Bourgogne Pinot Noir 2020</td>\n",
       "      <td>25,00</td>\n",
       "    </tr>\n",
       "    <tr>\n",
       "      <th>656</th>\n",
       "      <td>Coche Dury - Bourgogne Pinot Noir 1990</td>\n",
       "      <td>450,00</td>\n",
       "    </tr>\n",
       "    <tr>\n",
       "      <th>657</th>\n",
       "      <td>Coche Dury - Bourgogne Pinot Noir 1999</td>\n",
       "      <td>325,00</td>\n",
       "    </tr>\n",
       "    <tr>\n",
       "      <th>658</th>\n",
       "      <td>Coche Dury - Bourgogne Pinot Noir 2000</td>\n",
       "      <td>280,00</td>\n",
       "    </tr>\n",
       "    <tr>\n",
       "      <th>659</th>\n",
       "      <td>Coche Dury - Bourgogne Pinot Noir 2003</td>\n",
       "      <td>260,00</td>\n",
       "    </tr>\n",
       "    <tr>\n",
       "      <th>660</th>\n",
       "      <td>Coche Dury - Bourgogne Pinot Noir 2019</td>\n",
       "      <td>195,00</td>\n",
       "    </tr>\n",
       "    <tr>\n",
       "      <th>1578</th>\n",
       "      <td>Hospices de Dijon - Bourgogne Pinot Noir 1999</td>\n",
       "      <td>35,00</td>\n",
       "    </tr>\n",
       "    <tr>\n",
       "      <th>1596</th>\n",
       "      <td>Hubert Lignier - Bourgogne Pinot Noir \"Grand C...</td>\n",
       "      <td>29,00</td>\n",
       "    </tr>\n",
       "    <tr>\n",
       "      <th>2140</th>\n",
       "      <td>Maldant - Bourgogne Pinot Noir 2019</td>\n",
       "      <td>15,00</td>\n",
       "    </tr>\n",
       "    <tr>\n",
       "      <th>2185</th>\n",
       "      <td>Matrot - Bourgogne Pinot Noir 2019</td>\n",
       "      <td>16,00</td>\n",
       "    </tr>\n",
       "    <tr>\n",
       "      <th>2948</th>\n",
       "      <td>Camille Thiriet - Bourgogne Pinot Noir \"Les Bl...</td>\n",
       "      <td>37,50</td>\n",
       "    </tr>\n",
       "  </tbody>\n",
       "</table>\n",
       "</div>"
      ],
      "text/plain": [
       "                                           Product Name  \\\n",
       "9                   AF Gros - Bourgogne Pinot Noir 2018   \n",
       "92             Armand Heitz - Bourgogne Pinot Noir 2020   \n",
       "330                 Brintet - Bourgogne Pinot Noir 2020   \n",
       "439             Chanterêves - Bourgogne Pinot Noir 2020   \n",
       "656              Coche Dury - Bourgogne Pinot Noir 1990   \n",
       "657              Coche Dury - Bourgogne Pinot Noir 1999   \n",
       "658              Coche Dury - Bourgogne Pinot Noir 2000   \n",
       "659              Coche Dury - Bourgogne Pinot Noir 2003   \n",
       "660              Coche Dury - Bourgogne Pinot Noir 2019   \n",
       "1578      Hospices de Dijon - Bourgogne Pinot Noir 1999   \n",
       "1596  Hubert Lignier - Bourgogne Pinot Noir \"Grand C...   \n",
       "2140                Maldant - Bourgogne Pinot Noir 2019   \n",
       "2185                 Matrot - Bourgogne Pinot Noir 2019   \n",
       "2948  Camille Thiriet - Bourgogne Pinot Noir \"Les Bl...   \n",
       "\n",
       "     Price € (excluding tax)   \n",
       "9                       28,00  \n",
       "92                      16,00  \n",
       "330                     15,00  \n",
       "439                     25,00  \n",
       "656                    450,00  \n",
       "657                    325,00  \n",
       "658                    280,00  \n",
       "659                    260,00  \n",
       "660                    195,00  \n",
       "1578                    35,00  \n",
       "1596                    29,00  \n",
       "2140                    15,00  \n",
       "2185                    16,00  \n",
       "2948                    37,50  "
      ]
     },
     "execution_count": 67,
     "metadata": {},
     "output_type": "execute_result"
    }
   ],
   "source": [
    "source_wine[source_wine[\"Product Name\"].str.contains(\"Bourgogne Pinot Noir\")]"
   ]
  },
  {
   "cell_type": "code",
   "execution_count": null,
   "id": "1cacc055",
   "metadata": {},
   "outputs": [],
   "source": [
    "AF Gros - Bourgogne Pinot Noir 2018"
   ]
  },
  {
   "cell_type": "code",
   "execution_count": null,
   "id": "da3378b9",
   "metadata": {},
   "outputs": [],
   "source": []
  }
 ],
 "metadata": {
  "kernelspec": {
   "display_name": "Python 3",
   "language": "python",
   "name": "python3"
  },
  "language_info": {
   "codemirror_mode": {
    "name": "ipython",
    "version": 3
   },
   "file_extension": ".py",
   "mimetype": "text/x-python",
   "name": "python",
   "nbconvert_exporter": "python",
   "pygments_lexer": "ipython3",
   "version": "3.8.5"
  }
 },
 "nbformat": 4,
 "nbformat_minor": 5
}
